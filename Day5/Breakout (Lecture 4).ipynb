{
 "cells": [
  {
   "cell_type": "markdown",
   "metadata": {},
   "source": [
    "# Introduction to Numerical Techniques\n",
    "\n",
    "## 1) Numerical Differentiation Breakout : Different Differences\n",
    "\n",
    "There are multiple possible ways to calculate the derivative using finite differences:\n",
    "\n",
    "Left:\n",
    "\n",
    "$$f'(x) = \\frac{f(x+h) - f(x)}{h}$$\n",
    "\n",
    "Center:\n",
    "\n",
    "$$f'(x) = \\frac{f(x+h/2) - f(x-h/2)}{h}$$\n",
    "\n",
    "Right:\n",
    "\n",
    "$$f'(x) = \\frac{f(x) - f(x-h)}{h}$$\n",
    "\n",
    "Code up each of these and plot the accuracy vs step size h. Do this for both $f(x) = -sin(x)exp(-x)$ as well as $f(x) = x^2-x$."
   ]
  },
  {
   "cell_type": "code",
   "execution_count": null,
   "metadata": {},
   "outputs": [],
   "source": []
  },
  {
   "cell_type": "markdown",
   "metadata": {},
   "source": [
    "## 2) Numerical Differentiation Breakout : Second Derivative\n",
    "\n",
    "a) Use wolfram alpha to calculate the second derivative of $f(x) = -sin(x)exp(-x)$.\n",
    "\n",
    "b) Write a function to calculate the second derivative of a function and compare it to the analytical result. \n",
    "\n",
    "(Hint: $f''(x) = \\frac{\\frac{f(x+h)-f(x)}{h} - \\frac{f(x)-f(x-h)}{h} }{h}$ )\n",
    "\n",
    "c) In ./data/freefall.txt there is data from an experiment with a dropped weight. Calculate the force by measuring the acceleration (i.e. $F = m \\frac{d^2x}{dt^2}$)"
   ]
  },
  {
   "cell_type": "code",
   "execution_count": 6,
   "metadata": {},
   "outputs": [],
   "source": [
    "def second_deriv(fun,x,h):\n",
    "    f1 = (fun(x+h)-fun(x))/h\n",
    "    f2 = (fun(x)-fun(x-h))/h\n",
    "    return (f1 - f2)/h"
   ]
  },
  {
   "cell_type": "code",
   "execution_count": 7,
   "metadata": {},
   "outputs": [
    {
     "name": "stdout",
     "output_type": "stream",
     "text": [
      "Populating the interactive namespace from numpy and matplotlib\n"
     ]
    }
   ],
   "source": [
    "%pylab inline\n",
    "\n",
    "def func(x):\n",
    "    return -np.sin(x)*np.exp(-x)"
   ]
  },
  {
   "cell_type": "code",
   "execution_count": 13,
   "metadata": {},
   "outputs": [
    {
     "data": {
      "text/plain": [
       "[<matplotlib.lines.Line2D at 0x115928c90>]"
      ]
     },
     "execution_count": 13,
     "metadata": {},
     "output_type": "execute_result"
    },
    {
     "data": {
      "image/png": "[encoded data removed]",
      "text/plain": [
       "<Figure size 432x288 with 1 Axes>"
      ]
     },
     "metadata": {
      "needs_background": "light"
     },
     "output_type": "display_data"
    }
   ],
   "source": [
    "df \n",
    "fx = func(x)\n",
    "plt.plot(x,fx,\"b:\")\n",
    "plt.plot(x,second_deriv(func,x,0.01),\"b--\")"
   ]
  },
  {
   "cell_type": "code",
   "execution_count": 16,
   "metadata": {},
   "outputs": [
    {
     "data": {
      "text/plain": [
       "[<matplotlib.lines.Line2D at 0x10e85f850>]"
      ]
     },
     "execution_count": 16,
     "metadata": {},
     "output_type": "execute_result"
    },
    {
     "data": {
      "image/png": "[encoded data removed]",
      "text/plain": [
       "<Figure size 432x288 with 1 Axes>"
      ]
     },
     "metadata": {
      "needs_background": "light"
     },
     "output_type": "display_data"
    }
   ],
   "source": [
    "h = np.logspace(-16,1,100)\n",
    "\n",
    "plt.loglog(h,second_deriv(func,np.pi/3,h),\"b--\")"
   ]
  },
  {
   "cell_type": "markdown",
   "metadata": {},
   "source": [
    "## 3) Numerical Integration Breakout: Trap Integration\n",
    "    \n",
    "Below is the code for trapezoidal integration. Compare the performance of this vs the rectangular integration in class. \n",
    "\n",
    "a) If we want to get within .1 percent of the true integral how many steps of Trap_int will we need vs rectangular int?\n",
    "\n",
    "b) How long does the integration take for trap_int and rec_int for this precision?"
   ]
  },
  {
   "cell_type": "code",
   "execution_count": 27,
   "metadata": {},
   "outputs": [],
   "source": [
    "import numpy as np\n",
    "\n",
    "def trap_int(f, a, b, N=10):\n",
    "    # Define x-values\n",
    "    x = np.linspace(a, b, N+1)\n",
    "\n",
    "    # Get y-values\n",
    "    y = f(x)\n",
    "\n",
    "    # Define slice width\n",
    "    h = (b-a)/float(N)\n",
    "\n",
    "    # approximate integral\n",
    "    I = h * (0.5*y[0] + 0.5*y[-1] + sum(y[1:-1]))\n",
    "\n",
    "    return I\n",
    "\n",
    "def rec_int(func, a,b,N=10): #functional \n",
    "    x = np.linspace(a,b,N)\n",
    "    dx = x[1]-x[0]\n",
    "    integral = np.sum(func(x))*dx\n",
    "    return integral"
   ]
  },
  {
   "cell_type": "code",
   "execution_count": 28,
   "metadata": {},
   "outputs": [],
   "source": [
    "\n",
    "def func(x):\n",
    "    return - np.sin(x)*np.exp(-x)"
   ]
  },
  {
   "cell_type": "code",
   "execution_count": 31,
   "metadata": {},
   "outputs": [
    {
     "name": "stdout",
     "output_type": "stream",
     "text": [
      "46.2 µs ± 9.08 µs per loop (mean ± std. dev. of 7 runs, 10000 loops each)\n"
     ]
    }
   ],
   "source": [
    "%timeit trap_int(func,0,1)"
   ]
  },
  {
   "cell_type": "code",
   "execution_count": 33,
   "metadata": {},
   "outputs": [
    {
     "name": "stdout",
     "output_type": "stream",
     "text": [
      "54.8 µs ± 3.68 µs per loop (mean ± std. dev. of 7 runs, 10000 loops each)\n"
     ]
    }
   ],
   "source": [
    "%timeit rec_int(func,0,1, N=1000)"
   ]
  },
  {
   "cell_type": "code",
   "execution_count": 34,
   "metadata": {},
   "outputs": [],
   "source": [
    "sol = -0.2458370070002374304636"
   ]
  },
  {
   "cell_type": "code",
   "execution_count": 37,
   "metadata": {},
   "outputs": [
    {
     "name": "stdout",
     "output_type": "stream",
     "text": [
      "20 -0.0009413018499248676\n"
     ]
    }
   ],
   "source": [
    "N = 4\n",
    "\n",
    "while True:\n",
    "    fit = trap_int(func,0,1,N=N)\n",
    "    if abs((fit-sol)/sol)< 0.001: #Convergence Critera\n",
    "        print(N,(fit-sol)/sol)\n",
    "        break\n",
    "    N += 1"
   ]
  },
  {
   "cell_type": "code",
   "execution_count": 38,
   "metadata": {},
   "outputs": [
    {
     "name": "stdout",
     "output_type": "stream",
     "text": [
      "631 0.0009984225774362437\n"
     ]
    }
   ],
   "source": [
    "N = 4\n",
    "\n",
    "while True:\n",
    "    fit = rec_int(func,0,1,N=N)\n",
    "    if abs((fit-sol)/sol)< 0.001:\n",
    "        print(N,(fit-sol)/sol)\n",
    "        break\n",
    "    N += 1"
   ]
  },
  {
   "cell_type": "code",
   "execution_count": 39,
   "metadata": {},
   "outputs": [
    {
     "name": "stdout",
     "output_type": "stream",
     "text": [
      "45.4 µs ± 4.21 µs per loop (mean ± std. dev. of 7 runs, 10000 loops each)\n"
     ]
    }
   ],
   "source": [
    "%timeit trap_int(func,0,1,N=20)"
   ]
  },
  {
   "cell_type": "code",
   "execution_count": 40,
   "metadata": {},
   "outputs": [
    {
     "name": "stdout",
     "output_type": "stream",
     "text": [
      "49.6 µs ± 6.33 µs per loop (mean ± std. dev. of 7 runs, 10000 loops each)\n"
     ]
    }
   ],
   "source": [
    "%timeit rec_int(func,0,1,N=631)"
   ]
  },
  {
   "cell_type": "code",
   "execution_count": null,
   "metadata": {},
   "outputs": [],
   "source": []
  }
 ],
 "metadata": {
  "kernelspec": {
   "display_name": "Python 3",
   "language": "python",
   "name": "python3"
  },
  "language_info": {
   "codemirror_mode": {
    "name": "ipython",
    "version": 3
   },
   "file_extension": ".py",
   "mimetype": "text/x-python",
   "name": "python",
   "nbconvert_exporter": "python",
   "pygments_lexer": "ipython3",
   "version": "3.7.4"
  }
 },
 "nbformat": 4,
 "nbformat_minor": 2
}
