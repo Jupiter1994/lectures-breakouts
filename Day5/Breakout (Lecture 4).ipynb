{
 "cells": [
  {
   "cell_type": "markdown",
   "metadata": {},
   "source": [
    "# Introduction to Numerical Techniques\n",
    "\n",
    "## 1) Numerical Differentiation Breakout : Different Differences\n",
    "\n",
    "There are multiple possible ways to calculate the derivative using finite differences:\n",
    "\n",
    "Left:\n",
    "\n",
    "$$f'(x) = \\frac{f(x+h) - f(x)}{h}$$\n",
    "\n",
    "Center:\n",
    "\n",
    "$$f'(x) = \\frac{f(x+h/2) - f(x-h/2)}{h}$$\n",
    "\n",
    "Right:\n",
    "\n",
    "$$f'(x) = \\frac{f(x) - f(x-h)}{h}$$\n",
    "\n",
    "Code up each of these and plot the accuracy vs step size h. Do this for both $f(x) = -sin(x)exp(-x)$ as well as $f(x) = x^2-x$."
   ]
  },
  {
   "cell_type": "markdown",
   "metadata": {},
   "source": [
    "## 2) Numerical Differentiation Breakout : Second Derivative\n",
    "\n",
    "a) Use wolfram alpha to calculate the second derivative of $f(x) = -sin(x)exp(-x)$.\n",
    "\n",
    "b) Write a function to calculate the second derivative of a function and compare it to the analytical result. \n",
    "\n",
    "(Hint: $f''(x) = \\frac{\\frac{f(x+h)-f(x)}{h} - \\frac{f(x)-f(x-h)}{h} }{h}$ )\n",
    "\n",
    "c) In ./data/freefall.txt there is data from an experiment with a dropped weight. Calculate the force by measuring the acceleration (i.e. $F = m \\frac{d^2x}{dt^2}$)"
   ]
  },
  {
   "cell_type": "markdown",
   "metadata": {},
   "source": [
    "## 3) Numerical Integration Breakout: Trap Integration\n",
    "    \n",
    "Below is the code for trapezoidal integration. Compare the performance of this vs the rectangular integration in class. If we want to get within .1 percent of the true integral how many steps of Trap_int will we need vs rectangular int?"
   ]
  },
  {
   "cell_type": "code",
   "execution_count": null,
   "metadata": {},
   "outputs": [],
   "source": [
    "def trap_int(f, a, b, N=10):\n",
    "    # Define x-values\n",
    "    x = np.linspace(a, b, N+1)\n",
    "\n",
    "    # Get y-values\n",
    "    y = f(x)\n",
    "\n",
    "    # Define slice width\n",
    "    h = (b-a)/float(N)\n",
    "\n",
    "    # approximate integral\n",
    "    I = h * (0.5*y[0] + 0.5*y[-1] + sum(y[1:-1]))\n",
    "\n",
    "    return I"
   ]
  }
 ],
 "metadata": {
  "kernelspec": {
   "display_name": "Python 3",
   "language": "python",
   "name": "python3"
  },
  "language_info": {
   "codemirror_mode": {
    "name": "ipython",
    "version": 3
   },
   "file_extension": ".py",
   "mimetype": "text/x-python",
   "name": "python",
   "nbconvert_exporter": "python",
   "pygments_lexer": "ipython3",
   "version": "3.7.4"
  }
 },
 "nbformat": 4,
 "nbformat_minor": 2
}
