{
 "cells": [
  {
   "cell_type": "markdown",
   "metadata": {},
   "source": [
    "# Introduction to Numerical Differentiation and Integration\n",
    "\n",
    "Today we will go over some basic calculus using Python. I like to say that calculus is the mathematics of change, while physics is the science of things changing, so they go together quite well! The foundation of much of modern physics in Newton's Laws of Motion, which can be sumarized by his famous formula;\n",
    "\n",
    "$$F = ma = m \\frac{d^2x}{dt^2}.$$\n",
    "\n",
    "And much of computational physics requires solving this equation in various directions; either integrating force to solve for position, or differetiating position changes to find force. "
   ]
  },
  {
   "cell_type": "markdown",
   "metadata": {},
   "source": [
    "## Numerical Accuracy and Differentiation\n",
    "\n",
    "Before we dive into calculating derivatives, it is useful to study numerical accuracy. If we act to brashy with our calculations we might start to run into the limits of our computers precision, thereby introducing new errors into our calculation. To take a simple example, lets look at numerical differentiation:\n",
    "\n",
    "$f'(x) = \\frac{f(x+h)-f(x)}{h}$\n",
    "\n",
    "and study what happens when we make h very small. For our example function lets use the following;\n",
    "\n",
    "$f(x) = -\\sin(x)\\exp{(-x)}$\n",
    "\n",
    "and look at the derivative at $x= \\pi/3$. [Wolfram Alpha](https://www.wolframalpha.com/input/?i=derivative+of+sin(x)%2Fexp(x)+at+x%3D+pi%2F3) tells me this derivative is analytically equal to \n",
    "\n",
    "$f'(\\pi/3) = -(1/2 - \\sqrt{3}/2) e^{-\\pi/3} \\approx -0.12844556411843522596848807811180271548188465688642038774$"
   ]
  },
  {
   "cell_type": "code",
   "execution_count": 1,
   "metadata": {},
   "outputs": [],
   "source": [
    "sol = 0.12844556411843522596848807811180271548188465688642038774"
   ]
  },
  {
   "cell_type": "code",
   "execution_count": 2,
   "metadata": {},
   "outputs": [
    {
     "data": {
      "text/plain": [
       "0.12844556411843522"
      ]
     },
     "execution_count": 2,
     "metadata": {},
     "output_type": "execute_result"
    }
   ],
   "source": [
    "sol"
   ]
  },
  {
   "cell_type": "markdown",
   "metadata": {},
   "source": [
    "Note immediately that python drops digits after the first 16... This is the limitation of machine precision! Look at the following \"equality\""
   ]
  },
  {
   "cell_type": "code",
   "execution_count": 3,
   "metadata": {},
   "outputs": [
    {
     "data": {
      "text/plain": [
       "True"
      ]
     },
     "execution_count": 3,
     "metadata": {},
     "output_type": "execute_result"
    }
   ],
   "source": [
    "1.0 == 0.99999999999999999\n"
   ]
  },
  {
   "cell_type": "markdown",
   "metadata": {},
   "source": [
    "It isn't actually true mathematically, but does seem true according to a computer... The computer cannot store the 17th digit, so it rounds it up which makes the RHS equal to 1.0. For typical applications, 16 significant digits is plenty of precision to perform a calculation to high accuracy/precision.\n",
    "\n",
    "Lets now see what happens when we try to do calculus with these small numbers."
   ]
  },
  {
   "cell_type": "code",
   "execution_count": 4,
   "metadata": {},
   "outputs": [],
   "source": [
    "def derivative(f,x,h=1):\n",
    "    return (f(x+h)-f(x))/h\n",
    "\n",
    "import numpy as np\n",
    "\n",
    "def func(x):\n",
    "    return -np.sin(x)/np.exp(x)"
   ]
  },
  {
   "cell_type": "code",
   "execution_count": 5,
   "metadata": {},
   "outputs": [],
   "source": [
    "h = np.logspace(-16,1,100) #initalizing a list of possible h values\n",
    "derivatives = derivative(func,np.pi/3,h)"
   ]
  },
  {
   "cell_type": "code",
   "execution_count": 6,
   "metadata": {},
   "outputs": [
    {
     "name": "stdout",
     "output_type": "stream",
     "text": [
      "Populating the interactive namespace from numpy and matplotlib\n"
     ]
    }
   ],
   "source": [
    "%pylab inline"
   ]
  },
  {
   "cell_type": "code",
   "execution_count": 7,
   "metadata": {},
   "outputs": [
    {
     "data": {
      "text/plain": [
       "[<matplotlib.lines.Line2D at 0x10f974250>]"
      ]
     },
     "execution_count": 7,
     "metadata": {},
     "output_type": "execute_result"
    },
    {
     "data": {
      "image/png": "[encoded data removed]",
      "text/plain": [
       "<Figure size 432x288 with 1 Axes>"
      ]
     },
     "metadata": {
      "needs_background": "light"
     },
     "output_type": "display_data"
    }
   ],
   "source": [
    "plt.loglog(h,derivatives)\n",
    "plt.loglog([10**-16,10],[sol,sol])"
   ]
  },
  {
   "cell_type": "markdown",
   "metadata": {},
   "source": [
    "Notice that even before we hit the \"limit\" of $10^{16}$ our accuracy decreases (we no longer meet the orange line). It is important to keep in mind that we cannot make finite differences arbitrarily small, even though mathematically we should be taking them to zero."
   ]
  },
  {
   "cell_type": "markdown",
   "metadata": {},
   "source": [
    "## Using Numpy\n",
    "\n",
    "Numpy has a built in function, gradient, which can help plot derivatives of functions (or higher order versions). Lets see how we would use this."
   ]
  },
  {
   "cell_type": "code",
   "execution_count": 8,
   "metadata": {},
   "outputs": [],
   "source": [
    "x = np.linspace(0,10,101)*np.pi/6\n",
    "fx = func(x)"
   ]
  },
  {
   "cell_type": "code",
   "execution_count": 9,
   "metadata": {},
   "outputs": [
    {
     "data": {
      "text/plain": [
       "[<matplotlib.lines.Line2D at 0x111c3e710>]"
      ]
     },
     "execution_count": 9,
     "metadata": {},
     "output_type": "execute_result"
    },
    {
     "data": {
      "image/png": "[encoded data removed]",
      "text/plain": [
       "<Figure size 432x288 with 1 Axes>"
      ]
     },
     "metadata": {
      "needs_background": "light"
     },
     "output_type": "display_data"
    }
   ],
   "source": [
    "plt.plot(x,fx,\"b\")\n",
    "plt.plot(x,np.gradient(fx,x),\"b:\") "
   ]
  },
  {
   "cell_type": "code",
   "execution_count": 10,
   "metadata": {},
   "outputs": [
    {
     "data": {
      "text/plain": [
       "(1.0471975511965976, 1.0471975511965976)"
      ]
     },
     "execution_count": 10,
     "metadata": {},
     "output_type": "execute_result"
    }
   ],
   "source": [
    "x[20], np.pi/3"
   ]
  },
  {
   "cell_type": "code",
   "execution_count": 11,
   "metadata": {},
   "outputs": [
    {
     "data": {
      "text/plain": [
       "(0.12800746282602793, 0.12844556411843522)"
      ]
     },
     "execution_count": 11,
     "metadata": {},
     "output_type": "execute_result"
    }
   ],
   "source": [
    "np.gradient(fx,x)[20], sol #fairly close!"
   ]
  },
  {
   "cell_type": "markdown",
   "metadata": {},
   "source": [
    "Numpy gets fairly close! It uses a slightly more complex interpolation scheme using second derivative information."
   ]
  },
  {
   "cell_type": "markdown",
   "metadata": {},
   "source": [
    "## Numerical Integration\n",
    "\n",
    "Integrating thing is fairly hard... but we can use numpy to make things easier! Lets use our function from above. [Wolfram tells me](https://www.wolframalpha.com/input/?i=integral+of+-sin(x)%2Fexp(x)+from+0+to+1) that\n",
    "\n",
    "$$\\int_0^1 f(x) = (-e + \\cos(1) + \\sin(1))/(2 e) \\approx -0.24583700700023743046364199187064293501796014980384481619$$\n",
    "\n",
    "Normally, the first thing taught in calculus class is the rectangle rule. We can code this up quickly using Numpy!"
   ]
  },
  {
   "cell_type": "code",
   "execution_count": 12,
   "metadata": {},
   "outputs": [],
   "source": [
    "def integral(func,x_0 = 0, x_1=1,N=100):\n",
    "    x = np.linspace(x_0,x_1,N) #grid of x values\n",
    "    dx = x[1]-x[0] #difference between x values\n",
    "\n",
    "\n",
    "    integral = np.sum(func(x))*dx\n",
    "    return integral"
   ]
  },
  {
   "cell_type": "code",
   "execution_count": 13,
   "metadata": {},
   "outputs": [],
   "source": [
    "N_vals = [3,10,20,30,40,50,100,1000,10000,1000000,10**8]\n",
    "\n",
    "integral_vals = [-integral(func,N = i) for i in N_vals]"
   ]
  },
  {
   "cell_type": "code",
   "execution_count": 15,
   "metadata": {},
   "outputs": [
    {
     "data": {
      "text/plain": [
       "[<matplotlib.lines.Line2D at 0x11377a190>]"
      ]
     },
     "execution_count": 15,
     "metadata": {},
     "output_type": "execute_result"
    },
    {
     "data": {
      "image/png": "[encoded data removed]",
      "text/plain": [
       "<Figure size 432x288 with 1 Axes>"
      ]
     },
     "metadata": {
      "needs_background": "light"
     },
     "output_type": "display_data"
    }
   ],
   "source": [
    "plt.loglog(N_vals,integral_vals)\n",
    "plt.loglog([10,10**8],[0.2458370070002,0.2458370070002])"
   ]
  },
  {
   "cell_type": "markdown",
   "metadata": {},
   "source": [
    "If you try to extend beyond $10^8$ steps your computer will have a hard time keeping everything in memory!"
   ]
  },
  {
   "cell_type": "code",
   "execution_count": null,
   "metadata": {},
   "outputs": [],
   "source": []
  }
 ],
 "metadata": {
  "kernelspec": {
   "display_name": "Python 3",
   "language": "python",
   "name": "python3"
  },
  "language_info": {
   "codemirror_mode": {
    "name": "ipython",
    "version": 3
   },
   "file_extension": ".py",
   "mimetype": "text/x-python",
   "name": "python",
   "nbconvert_exporter": "python",
   "pygments_lexer": "ipython3",
   "version": "3.7.4"
  }
 },
 "nbformat": 4,
 "nbformat_minor": 2
}
