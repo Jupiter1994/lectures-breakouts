{
 "cells": [
  {
   "cell_type": "markdown",
   "metadata": {},
   "source": [
    "# 1) Clusters Dataset\n",
    "\n",
    " Load in the file clusters.csv from ./data/ with the np.loadtxt function, keeping only the columns labeled as haloid, r200crit, and m200crit. You will want to inspect the header of the file to see which columns these labels correspond to. Find the HaloID corresponding to the cluster with an r200crit > 1.0 and an m200crit < $2\\times10^{4}$. Note that HaloID should have data as integers, meaning you will want to break off that component of the data into a separate array with int data type, and keep the other two (which are floats) in a single ndarray with float data type\n",
    "\n",
    "a) Find the minimum and maximum angular distance of this sub-list.\n",
    "\n",
    "b) What is the median angular distance?"
   ]
  },
  {
   "cell_type": "markdown",
   "metadata": {},
   "source": [
    "# 2) 10000 Mystery Numbers \n",
    "\n",
    "In this question we will investigate what the properties are of 10000 mystery numbers are. These numbers are located in the data folder in the file called \"dist.txt\""
   ]
  },
  {
   "cell_type": "markdown",
   "metadata": {},
   "source": [
    "a) Load the values using Numpy."
   ]
  },
  {
   "cell_type": "markdown",
   "metadata": {},
   "source": [
    "b) What is the average of the first 1000 values in the data file?"
   ]
  },
  {
   "cell_type": "markdown",
   "metadata": {},
   "source": [
    "c) Write a python looping function to calculate the sum of all the datapoints. Compare the time of this function vs. the built in .sum() method."
   ]
  },
  {
   "cell_type": "markdown",
   "metadata": {},
   "source": [
    "d) Bin the distribution into ten evenly spaced bins; i.e. if the distribution varied between 0 and 1, figure out how many datapoints are between 0 and 0.1, between 0.1 and 0.2, etc. (Hint: the np.where() function could be helpful here!)"
   ]
  },
  {
   "cell_type": "code",
   "execution_count": null,
   "metadata": {},
   "outputs": [],
   "source": [
    "### If you are curious, you can plot them by using this command\n",
    "\n",
    "%matplotlib inline\n",
    "\n",
    "plt.plot(<BINS>) #your bin variable name here!"
   ]
  },
  {
   "cell_type": "markdown",
   "metadata": {},
   "source": [
    "# 3) Integrator\n",
    "\n",
    "Integration is very fun, but it is even more fun when we can have the computer do it! In this assignment you will code up a function to integrate using the rectangle rule."
   ]
  },
  {
   "cell_type": "markdown",
   "metadata": {},
   "source": [
    "a) Write a python function which will calculate the following:\n",
    "\n",
    "$$f(x) = x^2 + 3x + 1$$"
   ]
  },
  {
   "cell_type": "markdown",
   "metadata": {},
   "source": [
    "b) Analytically, what is the integral of this function between 0 and 1?"
   ]
  },
  {
   "cell_type": "markdown",
   "metadata": {},
   "source": [
    "c) Create a numpy linspaced array of length N between 0 and 1."
   ]
  },
  {
   "cell_type": "markdown",
   "metadata": {},
   "source": [
    "d) Use this linspaced list and the function to calculate the integral. Feel free to google the rectangle rule. Try N = 10 and N = 1000"
   ]
  },
  {
   "cell_type": "code",
   "execution_count": null,
   "metadata": {},
   "outputs": [],
   "source": []
  }
 ],
 "metadata": {
  "kernelspec": {
   "display_name": "Python 3",
   "language": "python",
   "name": "python3"
  },
  "language_info": {
   "codemirror_mode": {
    "name": "ipython",
    "version": 3
   },
   "file_extension": ".py",
   "mimetype": "text/x-python",
   "name": "python",
   "nbconvert_exporter": "python",
   "pygments_lexer": "ipython3",
   "version": "3.7.4"
  }
 },
 "nbformat": 4,
 "nbformat_minor": 2
}
