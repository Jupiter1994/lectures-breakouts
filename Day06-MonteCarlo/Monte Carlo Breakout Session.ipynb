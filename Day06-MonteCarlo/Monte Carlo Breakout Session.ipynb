{
 "cells": [
  {
   "cell_type": "markdown",
   "metadata": {},
   "source": [
    "## Breakout Session: Monte Carlo Activities\n",
    "\n",
    "#### 1) Calculating Pi\n",
    "\n",
    "a) For the example in class of calculing Pi, plot the estimate of Pi as a function of number of samples. "
   ]
  },
  {
   "cell_type": "code",
   "execution_count": 25,
   "metadata": {},
   "outputs": [],
   "source": [
    "n = np.linspace(0,1000,10)\n",
    "n = n.astype(int) "
   ]
  },
  {
   "cell_type": "code",
   "execution_count": 31,
   "metadata": {},
   "outputs": [],
   "source": [
    "\n",
    "def circle(x):\n",
    "    return np.sqrt(1.-x**2)\n",
    "\n",
    "def pi(n):\n",
    "    x_points = np.random.random(n)\n",
    "    y_points = np.random.random(n)\n",
    "\n",
    "    filter = circle(x_points) > y_points\n",
    "    filter2 = circle(x_points) < y_points\n",
    "\n",
    "    #plt.plot(x_points[filter],y_points[filter],\"ro\") #inside\n",
    "    #plt.plot(x_points[filter2],y_points[filter2],\"bo\") #outside\n",
    "    return filter\n",
    "   # n_inside=np.sum(filter)\n",
    "   # print(\"Our estimate of Pi is \"+str(4.0*n_inside/n))"
   ]
  },
  {
   "cell_type": "code",
   "execution_count": 35,
   "metadata": {},
   "outputs": [],
   "source": [
    "n = 10000\n",
    "\n",
    "output = pi(n)"
   ]
  },
  {
   "cell_type": "code",
   "execution_count": 40,
   "metadata": {},
   "outputs": [
    {
     "name": "stdout",
     "output_type": "stream",
     "text": [
      "nan\n",
      "3.099099099099099\n",
      "3.081081081081081\n",
      "3.099099099099099\n",
      "3.144144144144144\n",
      "3.091891891891892\n",
      "3.123123123123123\n",
      "3.0836550836550836\n",
      "3.0675675675675675\n",
      "3.072\n"
     ]
    },
    {
     "name": "stderr",
     "output_type": "stream",
     "text": [
      "/usr/local/lib/python3.7/site-packages/ipykernel_launcher.py:4: RuntimeWarning: invalid value encountered in long_scalars\n",
      "  after removing the cwd from sys.path.\n"
     ]
    }
   ],
   "source": [
    "n = np.linspace(0,1000,10)\n",
    "n = n.astype(int) \n",
    "for i in n:\n",
    "    print(np.sum(output[:i])/i*4)"
   ]
  },
  {
   "cell_type": "code",
   "execution_count": null,
   "metadata": {},
   "outputs": [],
   "source": []
  },
  {
   "cell_type": "markdown",
   "metadata": {},
   "source": [
    "b) Run this many times; what is the rough scaling relation between fractional error and number of samples?"
   ]
  },
  {
   "cell_type": "code",
   "execution_count": 42,
   "metadata": {},
   "outputs": [],
   "source": [
    "n = 100000\n",
    "def pi_estimate(n):\n",
    "    x_points = np.random.random(n)\n",
    "    y_points = np.random.random(n)\n",
    "    n_inside = np.sum(circle(x_points) > y_points)\n",
    "    return(n_inside/n*4)"
   ]
  },
  {
   "cell_type": "code",
   "execution_count": 47,
   "metadata": {},
   "outputs": [],
   "source": [
    "\n",
    "x = [pi_estimate(n) for i in range(0,1000)]"
   ]
  },
  {
   "cell_type": "code",
   "execution_count": 55,
   "metadata": {},
   "outputs": [
    {
     "name": "stderr",
     "output_type": "stream",
     "text": [
      "/usr/local/lib/python3.7/site-packages/ipykernel_launcher.py:2: MatplotlibDeprecationWarning: \n",
      "The 'normed' kwarg was deprecated in Matplotlib 2.1 and will be removed in 3.1. Use 'density' instead.\n",
      "  \n",
      "/usr/local/lib/python3.7/site-packages/ipykernel_launcher.py:4: MatplotlibDeprecationWarning: \n",
      "The 'normed' kwarg was deprecated in Matplotlib 2.1 and will be removed in 3.1. Use 'density' instead.\n",
      "  after removing the cwd from sys.path.\n"
     ]
    },
    {
     "data": {
      "text/plain": [
       "[<matplotlib.lines.Line2D at 0x11aadc210>]"
      ]
     },
     "execution_count": 55,
     "metadata": {},
     "output_type": "execute_result"
    },
    {
     "data": {
      "image/png": "[encoded data removed]",
      "text/plain": [
       "<Figure size 432x288 with 1 Axes>"
      ]
     },
     "metadata": {
      "needs_background": "light"
     },
     "output_type": "display_data"
    }
   ],
   "source": [
    "x = [pi_estimate(n) for i in range(0,1000)]\n",
    "plt.hist(x,alpha=0.5,normed=True)\n",
    "x_2 = [pi_estimate(1000) for i in range(0,1000)]\n",
    "plt.hist(x_2,alpha=0.5,normed=True)\n",
    "\n",
    "plt.plot([np.pi,np.pi],[0,100])"
   ]
  },
  {
   "cell_type": "code",
   "execution_count": 57,
   "metadata": {},
   "outputs": [
    {
     "data": {
      "text/plain": [
       "(0.005007003030316642, 0.05147875227703176)"
      ]
     },
     "execution_count": 57,
     "metadata": {},
     "output_type": "execute_result"
    }
   ],
   "source": [
    "np.std(np.array(x)),np.std(np.array(x_2))"
   ]
  },
  {
   "cell_type": "markdown",
   "metadata": {},
   "source": [
    "#### 2) Capitalist Coin Games\n",
    "\n",
    "We play a game where we both start off by flipping fair coins (50/50). If only one person gets heads (i.e. TH, or HT) they are declared the \"winner\" and get a point. In addition, they get to flip a weighted which will come up heads 75% of the time until they loose, at which point they need to go back to the fair coin and their opponent gets the weighted coin.\n",
    "\n",
    "We play a total of ten coin flips."
   ]
  },
  {
   "cell_type": "markdown",
   "metadata": {},
   "source": [
    "a) Make a simulation to run through each coin flip in series and assign scores to each player."
   ]
  },
  {
   "cell_type": "code",
   "execution_count": null,
   "metadata": {},
   "outputs": [],
   "source": [
    "#initalizing scores\n",
    "p1_score = 0\n",
    "p2_score = 0\n",
    "\n",
    "for i in range(0,10): #each round\n",
    "    #SOMETHING!"
   ]
  },
  {
   "cell_type": "markdown",
   "metadata": {},
   "source": [
    "b) If I win the first flip, what is the likelihood I will end the game with greater than 7 points?\n",
    "\n",
    "(Hint, you will want to run the simulation many times and keep track of who wins each time)"
   ]
  },
  {
   "cell_type": "code",
   "execution_count": null,
   "metadata": {},
   "outputs": [],
   "source": []
  },
  {
   "cell_type": "markdown",
   "metadata": {},
   "source": [
    "c) If I win the first flip, what is the likelihood I will win the game?"
   ]
  },
  {
   "cell_type": "code",
   "execution_count": null,
   "metadata": {},
   "outputs": [],
   "source": []
  }
 ],
 "metadata": {
  "kernelspec": {
   "display_name": "Python 3",
   "language": "python",
   "name": "python3"
  },
  "language_info": {
   "codemirror_mode": {
    "name": "ipython",
    "version": 3
   },
   "file_extension": ".py",
   "mimetype": "text/x-python",
   "name": "python",
   "nbconvert_exporter": "python",
   "pygments_lexer": "ipython3",
   "version": "3.7.4"
  }
 },
 "nbformat": 4,
 "nbformat_minor": 2
}
