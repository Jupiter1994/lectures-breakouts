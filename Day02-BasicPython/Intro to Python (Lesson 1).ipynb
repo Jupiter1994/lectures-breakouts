{
 "cells": [
  {
   "cell_type": "markdown",
   "metadata": {},
   "source": [
    "# Scientific Programming: Introduction to Python and Selected Advanced Topics\n",
    "\n",
    "In this lesson we'll review some basic key aspects of python and some special topics that will come up again later on in the course...\n",
    "\n",
    "Some other resources:\n",
    "\n",
    "Nick Kern's notes [here](https://github.com/nkern/Astro_9/tree/master/lectures/02_IntroPython)"
   ]
  },
  {
   "cell_type": "markdown",
   "metadata": {},
   "source": [
    "## Jupyter Notebooks \n",
    "\n",
    "Jupyter is a tool used to make python easier to use and is particularly well suited to science since it is easy to play around with lines of code without dealing with a lot of the \"logistics\" nessisary with full-fledged programs. IPython allows you to incorporate text (use the markdown option above) as well as run python code. For those unfamiliar with basic python here are some examples of what you can do.\n",
    "\n",
    "To run the code in a cell, press SHIFT+ENTER."
   ]
  },
  {
   "cell_type": "code",
   "execution_count": 1,
   "metadata": {},
   "outputs": [
    {
     "name": "stdout",
     "output_type": "stream",
     "text": [
      "Hello World\n"
     ]
    }
   ],
   "source": [
    "print(\"Hello World\")"
   ]
  },
  {
   "cell_type": "markdown",
   "metadata": {},
   "source": [
    "## Functions\n",
    "\n",
    "Functions are essentially pre-written bits of code which all us to organize our thoughts and allow us to efficiently write large programs. Lets take calculating kinetic energy for example...\n",
    "\n",
    "$$ E = \\frac{1}{2} m v^2 $$"
   ]
  },
  {
   "cell_type": "code",
   "execution_count": 10,
   "metadata": {},
   "outputs": [
    {
     "name": "stdout",
     "output_type": "stream",
     "text": [
      "6.75\n"
     ]
    }
   ],
   "source": [
    "m = 1.5\n",
    "v = 3\n",
    "E = 0.5 * m * v**2\n",
    "print(E)"
   ]
  },
  {
   "cell_type": "markdown",
   "metadata": {},
   "source": [
    "Instead of copy and pasting this code over and over again it is better to write a nice function to do it..."
   ]
  },
  {
   "cell_type": "code",
   "execution_count": 11,
   "metadata": {},
   "outputs": [],
   "source": [
    "def KineticEnergy(m,v):\n",
    "    return 0.5 * m * v**2"
   ]
  },
  {
   "cell_type": "code",
   "execution_count": 12,
   "metadata": {},
   "outputs": [
    {
     "data": {
      "text/plain": [
       "6.75"
      ]
     },
     "execution_count": 12,
     "metadata": {},
     "output_type": "execute_result"
    }
   ],
   "source": [
    "KineticEnergy(1.5,3)"
   ]
  },
  {
   "cell_type": "code",
   "execution_count": 13,
   "metadata": {},
   "outputs": [
    {
     "name": "stdout",
     "output_type": "stream",
     "text": [
      "For particle with mass 1 moving at velocity 1 the energy will be : 0.5\n",
      "For particle with mass 1 moving at velocity 2 the energy will be : 2.0\n",
      "For particle with mass 1 moving at velocity 3 the energy will be : 4.5\n",
      "For particle with mass 1 moving at velocity 4 the energy will be : 8.0\n",
      "For particle with mass 1 moving at velocity 5 the energy will be : 12.5\n",
      "For particle with mass 1 moving at velocity 6 the energy will be : 18.0\n",
      "For particle with mass 1 moving at velocity 7 the energy will be : 24.5\n",
      "For particle with mass 1 moving at velocity 8 the energy will be : 32.0\n",
      "For particle with mass 1 moving at velocity 9 the energy will be : 40.5\n"
     ]
    }
   ],
   "source": [
    "mass = 1\n",
    "for i in range(1,10):\n",
    "    print(\"For particle with mass \"+str(mass)+\" moving at velocity \"+ str(i)+\" the energy will be : \" + str(KineticEnergy(mass,i)))"
   ]
  },
  {
   "cell_type": "markdown",
   "metadata": {},
   "source": [
    "## Built in functions and common modules\n",
    "\n",
    "There are a number of functions already existing in python (like print, range, etc.), as well as some common functions you can import from modules. For example a common one we will often use is \"math\"..."
   ]
  },
  {
   "cell_type": "code",
   "execution_count": 14,
   "metadata": {},
   "outputs": [
    {
     "data": {
      "text/plain": [
       "0.47712125471966244"
      ]
     },
     "execution_count": 14,
     "metadata": {},
     "output_type": "execute_result"
    }
   ],
   "source": [
    "import math\n",
    "math.log10(3)"
   ]
  },
  {
   "cell_type": "markdown",
   "metadata": {},
   "source": [
    "Often times it will be useful to time things, in which case we can use the time feature..."
   ]
  },
  {
   "cell_type": "code",
   "execution_count": 20,
   "metadata": {},
   "outputs": [
    {
     "name": "stdout",
     "output_type": "stream",
     "text": [
      "0.10374093055725098\n"
     ]
    }
   ],
   "source": [
    "import time\n",
    "start_time = time.time()\n",
    "time.sleep(0.1)\n",
    "print(time.time()-start_time)"
   ]
  },
  {
   "cell_type": "markdown",
   "metadata": {},
   "source": [
    "You can also use some fancy jupyter specific tools to help you time certian functions. These special tools are known as magic commands, and begin with a \"%\". In this case \"%timeit\" will run a function many times to figure out the average time it takes your computer to do the calculation."
   ]
  },
  {
   "cell_type": "code",
   "execution_count": 22,
   "metadata": {},
   "outputs": [
    {
     "name": "stdout",
     "output_type": "stream",
     "text": [
      "159 ns ± 14.9 ns per loop (mean ± std. dev. of 7 runs, 10000000 loops each)\n"
     ]
    }
   ],
   "source": [
    "%timeit math.log10(3)"
   ]
  },
  {
   "cell_type": "markdown",
   "metadata": {
    "collapsed": true
   },
   "source": [
    "## Some Critical Commands..."
   ]
  },
  {
   "cell_type": "code",
   "execution_count": 2,
   "metadata": {},
   "outputs": [
    {
     "name": "stdout",
     "output_type": "stream",
     "text": [
      "0\n",
      "1\n",
      "2\n",
      "3\n",
      "4\n",
      "5\n",
      "6\n",
      "7\n",
      "8\n",
      "9\n"
     ]
    }
   ],
   "source": [
    "for i in range(0,10):\n",
    "    print(i)"
   ]
  },
  {
   "cell_type": "code",
   "execution_count": 6,
   "metadata": {},
   "outputs": [
    {
     "name": "stdout",
     "output_type": "stream",
     "text": [
      "divisible by three!  0\n",
      "Not divisible by three  1  :(\n",
      "Not divisible by three  2  :(\n",
      "divisible by three!  3\n",
      "Not divisible by three  4  :(\n",
      "Not divisible by three  5  :(\n",
      "divisible by three!  6\n",
      "Not divisible by three  7  :(\n",
      "Not divisible by three  8  :(\n",
      "divisible by three!  9\n"
     ]
    }
   ],
   "source": [
    "for i in range(0,10):\n",
    "    if i%3==0:\n",
    "        print(\"divisible by three! \", i)\n",
    "    else:\n",
    "        print(\"Not divisible by three \", i, \" :(\")"
   ]
  },
  {
   "cell_type": "code",
   "execution_count": 7,
   "metadata": {},
   "outputs": [
    {
     "name": "stdout",
     "output_type": "stream",
     "text": [
      "divisible by three!  0\n",
      "divisible by three!  3\n",
      "divisible by three!  6\n",
      "divisible by three!  9\n"
     ]
    }
   ],
   "source": [
    "for i in range(0,10):\n",
    "    if i%3==0:\n",
    "        print(\"divisible by three! \", i)\n",
    "    else:\n",
    "        next"
   ]
  },
  {
   "cell_type": "markdown",
   "metadata": {},
   "source": [
    "## Boleans\n",
    "\n",
    "You already saw some boolean operations in the last section (i.e. x%3 == 0), but here are some more specific operations..."
   ]
  },
  {
   "cell_type": "code",
   "execution_count": 8,
   "metadata": {},
   "outputs": [
    {
     "data": {
      "text/plain": [
       "True"
      ]
     },
     "execution_count": 8,
     "metadata": {},
     "output_type": "execute_result"
    }
   ],
   "source": [
    "True"
   ]
  },
  {
   "cell_type": "code",
   "execution_count": 9,
   "metadata": {},
   "outputs": [
    {
     "data": {
      "text/plain": [
       "False"
      ]
     },
     "execution_count": 9,
     "metadata": {},
     "output_type": "execute_result"
    }
   ],
   "source": [
    "False"
   ]
  },
  {
   "cell_type": "code",
   "execution_count": 18,
   "metadata": {},
   "outputs": [
    {
     "ename": "SyntaxError",
     "evalue": "can't assign to keyword (<ipython-input-18-d24d1bff1e9c>, line 1)",
     "output_type": "error",
     "traceback": [
      "\u001b[0;36m  File \u001b[0;32m\"<ipython-input-18-d24d1bff1e9c>\"\u001b[0;36m, line \u001b[0;32m1\u001b[0m\n\u001b[0;31m    True = False #this should error message!\u001b[0m\n\u001b[0m                                            ^\u001b[0m\n\u001b[0;31mSyntaxError\u001b[0m\u001b[0;31m:\u001b[0m can't assign to keyword\n"
     ]
    }
   ],
   "source": [
    "True = False #this should error message!"
   ]
  },
  {
   "cell_type": "code",
   "execution_count": 10,
   "metadata": {},
   "outputs": [
    {
     "data": {
      "text/plain": [
       "False"
      ]
     },
     "execution_count": 10,
     "metadata": {},
     "output_type": "execute_result"
    }
   ],
   "source": [
    "True == False #notice the double equals sign!"
   ]
  },
  {
   "cell_type": "code",
   "execution_count": 12,
   "metadata": {},
   "outputs": [
    {
     "name": "stdout",
     "output_type": "stream",
     "text": [
      "This should be visible\n"
     ]
    }
   ],
   "source": [
    "if True:\n",
    "    print(\"This should be visible\")\n",
    "if False:\n",
    "    print(\"This should not be visible\")"
   ]
  },
  {
   "cell_type": "markdown",
   "metadata": {},
   "source": [
    "## More complicated datatypes\n",
    "\n",
    "So far we mostly have been dealing with simple integers and booleans. Lets use a more complicated object, a list!"
   ]
  },
  {
   "cell_type": "code",
   "execution_count": 20,
   "metadata": {
    "collapsed": true
   },
   "outputs": [],
   "source": [
    "li = [1,3,6,\"dog\",\"cat\"] #last two are strings (i.e. just characters)"
   ]
  },
  {
   "cell_type": "code",
   "execution_count": null,
   "metadata": {
    "collapsed": true
   },
   "outputs": [],
   "source": [
    "lu"
   ]
  },
  {
   "cell_type": "code",
   "execution_count": 23,
   "metadata": {},
   "outputs": [
    {
     "name": "stdout",
     "output_type": "stream",
     "text": [
      "0 1\n",
      "1 3\n",
      "2 6\n",
      "3 dog\n",
      "4 cat\n"
     ]
    }
   ],
   "source": [
    "for n,i in enumerate(li):\n",
    "    print(n,i)"
   ]
  },
  {
   "cell_type": "markdown",
   "metadata": {},
   "source": [
    "You could view lists as vectors as well to do vector algebra (but note that we will soon use \"fancier\" lists, numpy arrays for all this algebra...)"
   ]
  },
  {
   "cell_type": "code",
   "execution_count": 24,
   "metadata": {},
   "outputs": [
    {
     "name": "stdout",
     "output_type": "stream",
     "text": [
      "[2, 6, 6]\n"
     ]
    }
   ],
   "source": [
    "v1 = [0,3,5]\n",
    "v2 = [2,3,1]\n",
    "\n",
    "v_add = [0,0,0] #initializing a new array\n",
    "for n,i in enumerate(v1):\n",
    "    v_add[n] = i + v2[n]\n",
    "    \n",
    "print(v_add)"
   ]
  },
  {
   "cell_type": "code",
   "execution_count": 26,
   "metadata": {},
   "outputs": [
    {
     "data": {
      "text/plain": [
       "[0, 3, 5, 2, 3, 1]"
      ]
     },
     "execution_count": 26,
     "metadata": {},
     "output_type": "execute_result"
    }
   ],
   "source": [
    "v1 + v2 #note + doesn' work the way you might want it to..."
   ]
  },
  {
   "cell_type": "markdown",
   "metadata": {},
   "source": [
    "## Recursive Functions : Fibbinacci Example\n",
    "\n",
    "A recursive function is a function that calls itself!"
   ]
  },
  {
   "cell_type": "code",
   "execution_count": 31,
   "metadata": {
    "collapsed": true
   },
   "outputs": [],
   "source": [
    "def fib(n):\n",
    "    if n ==0:\n",
    "        return 1\n",
    "    if n==1:\n",
    "        return 1\n",
    "    return fib(n-1) + fib(n-2)"
   ]
  },
  {
   "cell_type": "code",
   "execution_count": 30,
   "metadata": {},
   "outputs": [
    {
     "name": "stdout",
     "output_type": "stream",
     "text": [
      "1\n",
      "1\n",
      "2\n",
      "3\n",
      "5\n",
      "8\n",
      "13\n",
      "21\n",
      "34\n",
      "55\n"
     ]
    }
   ],
   "source": [
    "for i in range(0,10):\n",
    "    print(fib(i))"
   ]
  },
  {
   "cell_type": "markdown",
   "metadata": {},
   "source": [
    "# Advanced Topic: Classes\n",
    "\n",
    "A class is also a data structure! It can hold attributes (essentially data points) as well as methods (functions on those data points or ways to alter them...)"
   ]
  },
  {
   "cell_type": "code",
   "execution_count": 33,
   "metadata": {},
   "outputs": [
    {
     "name": "stdout",
     "output_type": "stream",
     "text": [
      "Ben\n",
      "27\n"
     ]
    }
   ],
   "source": [
    "class Person:\n",
    "    def __init__(self, name, age): #initializer\n",
    "        self.name = name\n",
    "        self.age = age\n",
    "\n",
    "p1 = Person(\"Ben\", 27)\n",
    "\n",
    "print(p1.name)\n",
    "print(p1.age)"
   ]
  },
  {
   "cell_type": "code",
   "execution_count": 39,
   "metadata": {},
   "outputs": [
    {
     "name": "stdout",
     "output_type": "stream",
     "text": [
      "Ben age is 27\n",
      "A year passes...\n",
      "Ben age is 28\n"
     ]
    }
   ],
   "source": [
    "class Person:\n",
    "    def __init__(self, name, age): #initializer\n",
    "        self.name = name\n",
    "        self.age = age\n",
    "    def year_pass(self):\n",
    "        self.age += 1\n",
    "\n",
    "p1 = Person(\"Ben\", 27)\n",
    "\n",
    "print(p1.name, \"age is\",p1.age)\n",
    "\n",
    "print(\"A year passes...\")\n",
    "p1.year_pass()\n",
    " \n",
    "print(p1.name, \"age is\",p1.age)\n"
   ]
  },
  {
   "cell_type": "code",
   "execution_count": 44,
   "metadata": {
    "collapsed": true
   },
   "outputs": [],
   "source": [
    "class Number:\n",
    "    def __init__(self, value): #initializer\n",
    "        self.value = value\n",
    "    def __add__(self,other): \n",
    "        value = self.value + other.value\n",
    "        return Number(value)\n",
    "        "
   ]
  },
  {
   "cell_type": "code",
   "execution_count": 49,
   "metadata": {},
   "outputs": [
    {
     "data": {
      "text/plain": [
       "12"
      ]
     },
     "execution_count": 49,
     "metadata": {},
     "output_type": "execute_result"
    }
   ],
   "source": [
    "New_number = Number(3)+Number(9)\n",
    "New_number.value"
   ]
  },
  {
   "cell_type": "markdown",
   "metadata": {
    "collapsed": true
   },
   "source": [
    "## Read from File\n",
    "\n",
    "We will eventually read from file a smarter way than this, but it is nice to know the basics..."
   ]
  },
  {
   "cell_type": "code",
   "execution_count": 11,
   "metadata": {},
   "outputs": [
    {
     "name": "stdout",
     "output_type": "stream",
     "text": [
      "31\n",
      "32\n",
      "80\n",
      "99\n",
      "10\n",
      "11\n"
     ]
    }
   ],
   "source": [
    "f = open(\"./test\") #opening the file\n",
    "print(f.read())\n",
    "f.close() #closing the file"
   ]
  },
  {
   "cell_type": "code",
   "execution_count": null,
   "metadata": {
    "collapsed": true
   },
   "outputs": [],
   "source": []
  }
 ],
 "metadata": {
  "kernelspec": {
   "display_name": "Python 3",
   "language": "python",
   "name": "python3"
  },
  "language_info": {
   "codemirror_mode": {
    "name": "ipython",
    "version": 3
   },
   "file_extension": ".py",
   "mimetype": "text/x-python",
   "name": "python",
   "nbconvert_exporter": "python",
   "pygments_lexer": "ipython3",
   "version": "3.7.4"
  }
 },
 "nbformat": 4,
 "nbformat_minor": 2
}
