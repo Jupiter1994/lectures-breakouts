{
 "cells": [
  {
   "cell_type": "markdown",
   "metadata": {},
   "source": [
    "# Scientific Programming: NumPy\n",
    "\n",
    "In this lesson we'll review NumPy, a numerical package on Python which is going to be the main way we store and interact with data.\n",
    "\n",
    "NumPy is built on top of C++ libraries. Normally Python as a computer language is very slow at things with loops and whenever possible you want to turn your data into a \"vector\" and operate on those vectors. The underlying C++ code (LAPACK) has very optimized routines for all the normal (and some abnormal) linear algebra routines one would do with normal matricies/vectors, such as transposition, diagionalization, dot product, etc.\n",
    "\n",
    "Some other resources:\n",
    "\n",
    "Absolute Beginners Guide [here](https://hackernoon.com/introduction-to-numpy-1-an-absolute-beginners-guide-to-machine-learning-and-data-science-5d87f13f0d51)"
   ]
  },
  {
   "cell_type": "markdown",
   "metadata": {},
   "source": [
    "## Speed improvement in NumPy"
   ]
  },
  {
   "cell_type": "code",
   "execution_count": 1,
   "metadata": {},
   "outputs": [],
   "source": [
    "# load numpy like this, which allows us to type np instead of numpy every time\n",
    "import numpy as np\n"
   ]
  },
  {
   "cell_type": "markdown",
   "metadata": {},
   "source": [
    "The basic object within NumPy is the array, which is essentially list with some fancy properties. More technically it is a class structure with methods associated with it, many of which call underlying C/C++ code to make operations more efficient."
   ]
  },
  {
   "cell_type": "code",
   "execution_count": 11,
   "metadata": {},
   "outputs": [
    {
     "data": {
      "text/plain": [
       "array([6, 7, 6, 7, 7])"
      ]
     },
     "execution_count": 11,
     "metadata": {},
     "output_type": "execute_result"
    }
   ],
   "source": [
    "n1 = np.array([3,4,5,4,4]) # initializing array\n",
    "n2 = np.array([3,3,1,3,3]) # initializing array\n",
    "\n",
    "n1 + n2"
   ]
  },
  {
   "cell_type": "code",
   "execution_count": 12,
   "metadata": {},
   "outputs": [
    {
     "data": {
      "text/plain": [
       "[3, 4, 5, 4, 4, 3, 3, 1, 3, 3]"
      ]
     },
     "execution_count": 12,
     "metadata": {},
     "output_type": "execute_result"
    }
   ],
   "source": [
    "#compare this to how native python lists work\n",
    "\n",
    "a1 = [3,4,5,4,4]\n",
    "a2 = [3,3,1,3,3]\n",
    "\n",
    "a1 + a2"
   ]
  },
  {
   "cell_type": "code",
   "execution_count": 16,
   "metadata": {},
   "outputs": [
    {
     "data": {
      "text/plain": [
       "[6, 7, 6, 7, 7]"
      ]
     },
     "execution_count": 16,
     "metadata": {},
     "output_type": "execute_result"
    }
   ],
   "source": [
    "def add_vec(a1,a2):\n",
    "    x = [0,0,0,0,0]\n",
    "    for i,j in enumerate(a1):\n",
    "        x[i] = j + a2[i]\n",
    "    return x\n",
    "\n",
    "add_vec(a1,a2)"
   ]
  },
  {
   "cell_type": "markdown",
   "metadata": {},
   "source": [
    "We can show how much more efficient NumPy is by using the \"%timeit\" magic command"
   ]
  },
  {
   "cell_type": "code",
   "execution_count": 14,
   "metadata": {},
   "outputs": [
    {
     "name": "stdout",
     "output_type": "stream",
     "text": [
      "937 ns ± 23.8 ns per loop (mean ± std. dev. of 7 runs, 1000000 loops each)\n"
     ]
    }
   ],
   "source": [
    "%timeit add_vec(a1,a2)"
   ]
  },
  {
   "cell_type": "code",
   "execution_count": 15,
   "metadata": {},
   "outputs": [
    {
     "name": "stdout",
     "output_type": "stream",
     "text": [
      "528 ns ± 40.3 ns per loop (mean ± std. dev. of 7 runs, 1000000 loops each)\n"
     ]
    }
   ],
   "source": [
    "%timeit n1 + n2"
   ]
  },
  {
   "cell_type": "markdown",
   "metadata": {},
   "source": [
    "Note that we will often be dealing with even larger arrays where a naive python implementation would require nested loops! This means that this improvement of time will grow multiplicatively as we go to higher dimensions and larger arrays."
   ]
  },
  {
   "cell_type": "markdown",
   "metadata": {},
   "source": [
    "## Dealing with Arrays\n",
    "\n",
    "So what other fun features to arrays have?! Note that, unlike python lists, all elements of a numpy array must be of the same type. Python will usually smartly convert everything to the same type if needed."
   ]
  },
  {
   "cell_type": "code",
   "execution_count": 19,
   "metadata": {},
   "outputs": [
    {
     "name": "stdout",
     "output_type": "stream",
     "text": [
      "[1.2 2.  3. ]\n",
      "float64\n"
     ]
    }
   ],
   "source": [
    "arr = np.array([1.2, 2, 3]) #one float, two ints\n",
    "\n",
    "print(arr)\n",
    "\n",
    "print(arr.dtype) #becomes all floats!"
   ]
  },
  {
   "cell_type": "code",
   "execution_count": 21,
   "metadata": {},
   "outputs": [
    {
     "name": "stdout",
     "output_type": "stream",
     "text": [
      "[[1 2 3]\n",
      " [4 5 6]\n",
      " [7 8 9]]\n"
     ]
    }
   ],
   "source": [
    "#We can also have higher dimensional arrays (in this case a matrix)\n",
    "arr = np.array([ [1,2,3], [4,5,6], [7,8,9]])\n",
    "\n",
    "print(arr) #which will display rather \"prettily\""
   ]
  },
  {
   "cell_type": "markdown",
   "metadata": {},
   "source": [
    "As we saw with \".dtype\" arrays have various attributes and methods associated with them. This becomes useful when trying to \"data-wrangle\" and to get data in to the correct format for our anaylsis."
   ]
  },
  {
   "cell_type": "code",
   "execution_count": 23,
   "metadata": {},
   "outputs": [
    {
     "name": "stdout",
     "output_type": "stream",
     "text": [
      "2\n",
      "(3, 3)\n"
     ]
    }
   ],
   "source": [
    "print(arr.ndim)\n",
    "\n",
    "print(arr.shape)"
   ]
  },
  {
   "cell_type": "markdown",
   "metadata": {},
   "source": [
    "Like lists (and unlike strings) we can change elements of arrays, they are \"mutable\" in pythonic terms."
   ]
  },
  {
   "cell_type": "code",
   "execution_count": 24,
   "metadata": {},
   "outputs": [
    {
     "name": "stdout",
     "output_type": "stream",
     "text": [
      "1.2\n",
      "100.0\n"
     ]
    }
   ],
   "source": [
    "arr = np.array([1.2, 2, 3]) #one float, two ints\n",
    "\n",
    "print(arr[0])\n",
    "\n",
    "arr[0]=100\n",
    "\n",
    "print(arr[0])"
   ]
  },
  {
   "cell_type": "markdown",
   "metadata": {},
   "source": [
    "An N-dimensional array has N indices which are used to call certian elements or sets of elements."
   ]
  },
  {
   "cell_type": "code",
   "execution_count": 26,
   "metadata": {},
   "outputs": [
    {
     "name": "stdout",
     "output_type": "stream",
     "text": [
      "[[1 2 3]\n",
      " [4 5 6]\n",
      " [7 8 9]]\n",
      "This is the first element 1\n",
      "This is the first columnm [1 4 7]\n",
      "This is the first row [1 2 3]\n"
     ]
    }
   ],
   "source": [
    "#We can also have higher dimensional arrays (in this case a matrix)\n",
    "arr = np.array([ [1,2,3], [4,5,6], [7,8,9]])\n",
    "\n",
    "print(arr) #which will display rather \"prettily\"\n",
    "\n",
    "print(\"This is the first element\", arr[0,0])\n",
    "\n",
    "print(\"This is the first columnm\", arr[:,0])\n",
    "\n",
    "print(\"This is the first row\", arr[0,:])"
   ]
  },
  {
   "cell_type": "code",
   "execution_count": 129,
   "metadata": {},
   "outputs": [
    {
     "name": "stdout",
     "output_type": "stream",
     "text": [
      "10.0\n"
     ]
    }
   ],
   "source": [
    "# we can also use negative indexing...\n",
    "arr = np.array([1.2, 2, 3,5,10])\n",
    "\n",
    "print(arr[-1]) \n"
   ]
  },
  {
   "cell_type": "code",
   "execution_count": 130,
   "metadata": {},
   "outputs": [
    {
     "name": "stdout",
     "output_type": "stream",
     "text": [
      "[5.  2.  1.2]\n"
     ]
    }
   ],
   "source": [
    "# we can also call specific indexes in the form of a list\n",
    "\n",
    "print(arr[[3,1,0]])\n"
   ]
  },
  {
   "cell_type": "code",
   "execution_count": 132,
   "metadata": {},
   "outputs": [
    {
     "data": {
      "text/plain": [
       "array([2., 3., 5.])"
      ]
     },
     "execution_count": 132,
     "metadata": {},
     "output_type": "execute_result"
    }
   ],
   "source": [
    "arr[1:4] # slicing an array"
   ]
  },
  {
   "cell_type": "code",
   "execution_count": 84,
   "metadata": {},
   "outputs": [
    {
     "name": "stdout",
     "output_type": "stream",
     "text": [
      "[2 4 6 8]\n",
      "[1 4 7]\n"
     ]
    }
   ],
   "source": [
    "# we can also call every other (or every nth) element of an array\n",
    "arr = np.array([1, 2, 3,4,5,6,7,8])\n",
    "\n",
    "print(arr[1::2]) # note the two : signs\n",
    "print(arr[::3]) # note the two : signs"
   ]
  },
  {
   "cell_type": "markdown",
   "metadata": {},
   "source": [
    "## (Common) methods associated with arrays\n",
    "\n",
    "Some common array \"gymnastics\" that often come up..."
   ]
  },
  {
   "cell_type": "code",
   "execution_count": 41,
   "metadata": {},
   "outputs": [
    {
     "name": "stdout",
     "output_type": "stream",
     "text": [
      "original array [1 2 3 4 5 6 7 8]\n",
      "[[1 2 3 4]\n",
      " [5 6 7 8]]\n",
      "back to original [1 2 3 4 5 6 7 8]\n"
     ]
    }
   ],
   "source": [
    "arr = np.array([1, 2, 3,4,5,6,7,8])\n",
    "\n",
    "print(\"original array\", arr)\n",
    "\n",
    "new_arr = arr.reshape(2,4)\n",
    "print(new_arr)\n",
    "\n",
    "print(\"back to original\", new_arr.flatten())\n"
   ]
  },
  {
   "cell_type": "markdown",
   "metadata": {},
   "source": [
    "When reshaping (as well as other select times) we can use negative indexing to have numpy be \"smart\" in selecting the proper number... i.e."
   ]
  },
  {
   "cell_type": "code",
   "execution_count": 44,
   "metadata": {},
   "outputs": [
    {
     "name": "stdout",
     "output_type": "stream",
     "text": [
      "[1 2 3 4 5 6 7 8]\n",
      "[[1 2]\n",
      " [3 4]\n",
      " [5 6]\n",
      " [7 8]]\n"
     ]
    }
   ],
   "source": [
    "print(arr)\n",
    "new_arr = arr.reshape(4,-1)\n",
    "print(new_arr)"
   ]
  },
  {
   "cell_type": "code",
   "execution_count": 47,
   "metadata": {},
   "outputs": [
    {
     "name": "stdout",
     "output_type": "stream",
     "text": [
      "[[1 2]\n",
      " [3 4]\n",
      " [5 6]\n",
      " [7 8]]\n",
      "[[1 3 5 7]\n",
      " [2 4 6 8]]\n"
     ]
    }
   ],
   "source": [
    "#transpose\n",
    "print(new_arr)\n",
    "\n",
    "print(new_arr.transpose())"
   ]
  },
  {
   "cell_type": "code",
   "execution_count": 117,
   "metadata": {},
   "outputs": [
    {
     "data": {
      "text/plain": [
       "array([[1, 3, 5, 7],\n",
       "       [2, 4, 6, 8]])"
      ]
     },
     "execution_count": 117,
     "metadata": {},
     "output_type": "execute_result"
    }
   ],
   "source": [
    "new_arr.transpose() #returns a new array which is the transpose of the original"
   ]
  },
  {
   "cell_type": "code",
   "execution_count": 118,
   "metadata": {},
   "outputs": [
    {
     "name": "stdout",
     "output_type": "stream",
     "text": [
      "[  2   2   3   3   5   9  10  11 100]\n"
     ]
    }
   ],
   "source": [
    "arr = np.array([3,5,10,11,2,3,9,100,2])\n",
    "arr.sort() #note this mutes the original array! It doesn't return a new array... \n",
    "#This is likely done for memory reasons when dealing with large arrays...\n",
    "\n",
    "print(arr)"
   ]
  },
  {
   "cell_type": "code",
   "execution_count": 127,
   "metadata": {},
   "outputs": [
    {
     "data": {
      "text/plain": [
       "145"
      ]
     },
     "execution_count": 127,
     "metadata": {},
     "output_type": "execute_result"
    }
   ],
   "source": [
    "arr.sum() #sum of all elements"
   ]
  },
  {
   "cell_type": "markdown",
   "metadata": {},
   "source": [
    "## Adding Arrays together\n",
    "\n",
    "Often times it is nessisary to add together different arrays to make a larger arrays. While numpy can be smart in doing this, the cardinal rule is that the commands are set up to avoid any ambigiouty in how we are adding the arrays. All arrays must be rectangular in the end!"
   ]
  },
  {
   "cell_type": "code",
   "execution_count": 50,
   "metadata": {},
   "outputs": [
    {
     "data": {
      "text/plain": [
       "array([[1, 2],\n",
       "       [3, 4],\n",
       "       [5, 6],\n",
       "       [7, 8],\n",
       "       [1, 2],\n",
       "       [3, 4],\n",
       "       [5, 6],\n",
       "       [7, 8]])"
      ]
     },
     "execution_count": 50,
     "metadata": {},
     "output_type": "execute_result"
    }
   ],
   "source": [
    "# vertically stacking\n",
    "\n",
    "np.vstack([new_arr,new_arr])"
   ]
  },
  {
   "cell_type": "code",
   "execution_count": 51,
   "metadata": {},
   "outputs": [
    {
     "data": {
      "text/plain": [
       "array([[1, 2, 1, 2],\n",
       "       [3, 4, 3, 4],\n",
       "       [5, 6, 5, 6],\n",
       "       [7, 8, 7, 8]])"
      ]
     },
     "execution_count": 51,
     "metadata": {},
     "output_type": "execute_result"
    }
   ],
   "source": [
    "# horizontally stacking\n",
    "\n",
    "np.hstack([new_arr,new_arr])"
   ]
  },
  {
   "cell_type": "code",
   "execution_count": 53,
   "metadata": {},
   "outputs": [
    {
     "data": {
      "text/plain": [
       "array([[ 2,  4],\n",
       "       [ 6,  8],\n",
       "       [10, 12],\n",
       "       [14, 16]])"
      ]
     },
     "execution_count": 53,
     "metadata": {},
     "output_type": "execute_result"
    }
   ],
   "source": [
    "# element-wise adding...\n",
    "\n",
    "new_arr + new_arr"
   ]
  },
  {
   "cell_type": "code",
   "execution_count": 63,
   "metadata": {},
   "outputs": [
    {
     "name": "stdout",
     "output_type": "stream",
     "text": [
      "[[11 12]\n",
      " [13 14]\n",
      " [15 16]\n",
      " [17 18]]\n",
      "[[11 22]\n",
      " [13 24]\n",
      " [15 26]\n",
      " [17 28]]\n",
      "[[11 12]\n",
      " [23 24]\n",
      " [35 36]\n",
      " [47 48]]\n"
     ]
    }
   ],
   "source": [
    "# addin elements of different sizes?\n",
    "\n",
    "toadd = np.array([10,10])\n",
    "\n",
    "print(new_arr + toadd)\n",
    "\n",
    "toadd = np.array([10,20])\n",
    "\n",
    "print(new_arr + toadd)\n",
    "\n",
    "\n",
    "toadd = np.array([10,20,30,40]).reshape(4,-1) #making the dimensions line up correctly!\n",
    "\n",
    "print(new_arr + toadd)"
   ]
  },
  {
   "cell_type": "code",
   "execution_count": 68,
   "metadata": {},
   "outputs": [
    {
     "ename": "ValueError",
     "evalue": "operands could not be broadcast together with shapes (3,3) (2,2) ",
     "output_type": "error",
     "traceback": [
      "\u001b[0;31m---------------------------------------------------------------------------\u001b[0m",
      "\u001b[0;31mValueError\u001b[0m                                Traceback (most recent call last)",
      "\u001b[0;32m<ipython-input-68-38271f6d1de7>\u001b[0m in \u001b[0;36m<module>\u001b[0;34m\u001b[0m\n\u001b[1;32m      5\u001b[0m \u001b[0marr2\u001b[0m \u001b[0;34m=\u001b[0m \u001b[0mnp\u001b[0m\u001b[0;34m.\u001b[0m\u001b[0marray\u001b[0m\u001b[0;34m(\u001b[0m\u001b[0;34m[\u001b[0m\u001b[0;34m[\u001b[0m\u001b[0;36m10\u001b[0m\u001b[0;34m,\u001b[0m\u001b[0;36m10\u001b[0m\u001b[0;34m]\u001b[0m\u001b[0;34m,\u001b[0m\u001b[0;34m[\u001b[0m\u001b[0;36m10\u001b[0m\u001b[0;34m,\u001b[0m\u001b[0;36m10\u001b[0m\u001b[0;34m]\u001b[0m\u001b[0;34m]\u001b[0m\u001b[0;34m)\u001b[0m\u001b[0;34m\u001b[0m\u001b[0;34m\u001b[0m\u001b[0m\n\u001b[1;32m      6\u001b[0m \u001b[0;34m\u001b[0m\u001b[0m\n\u001b[0;32m----> 7\u001b[0;31m \u001b[0marr1\u001b[0m \u001b[0;34m+\u001b[0m \u001b[0marr2\u001b[0m\u001b[0;34m\u001b[0m\u001b[0;34m\u001b[0m\u001b[0m\n\u001b[0m",
      "\u001b[0;31mValueError\u001b[0m: operands could not be broadcast together with shapes (3,3) (2,2) "
     ]
    }
   ],
   "source": [
    "#adding subsets of arrays\n",
    "\n",
    "arr1 = np.array([ [1,2,3], [4,5,6], [7,8,9]])\n",
    "\n",
    "arr2 = np.array([[10,10],[10,10]])\n",
    "\n",
    "arr1 + arr2 #ERROR! OH NO!"
   ]
  },
  {
   "cell_type": "code",
   "execution_count": 69,
   "metadata": {},
   "outputs": [
    {
     "name": "stdout",
     "output_type": "stream",
     "text": [
      "[[1 2 3]\n",
      " [4 5 6]\n",
      " [7 8 9]]\n",
      "[[11 12  3]\n",
      " [14 15  6]\n",
      " [ 7  8  9]]\n"
     ]
    }
   ],
   "source": [
    "print(arr1)\n",
    "\n",
    "arr1[0:2,0:2] += arr2 # smart indexing and using the built in += python feature!\n",
    "\n",
    "print(arr1)"
   ]
  },
  {
   "cell_type": "markdown",
   "metadata": {},
   "source": [
    "## Booleans and Masking\n",
    "\n",
    "Often times we want to \"mask\" data or otherwise filter in order to only use a subset. Maybe we have information about all students but only want to analyze students who are seniors for example. Here we can use boolean numpy arrays to do a lot of the work!"
   ]
  },
  {
   "cell_type": "code",
   "execution_count": 77,
   "metadata": {},
   "outputs": [
    {
     "name": "stdout",
     "output_type": "stream",
     "text": [
      "[[ 9.  3.]\n",
      " [ 9.  2.]\n",
      " [10.  3.]\n",
      " [10.  1.]\n",
      " [ 9.  4.]\n",
      " [11.  3.]\n",
      " [12.  8.]\n",
      " [11.  3.]\n",
      " [12.  7.]\n",
      " [ 9.  8.]]\n"
     ]
    }
   ],
   "source": [
    "data = np.array([[9,3.0],[9,2.0],[10,3.],[10,1.],[9,4],[11,3.],[12,8.],[11,3],[12,7],[9,8]])\n",
    "print(data)"
   ]
  },
  {
   "cell_type": "code",
   "execution_count": 76,
   "metadata": {},
   "outputs": [
    {
     "name": "stdout",
     "output_type": "stream",
     "text": [
      "[False False False False False False  True False  True]\n"
     ]
    },
    {
     "data": {
      "text/plain": [
       "array([[12.,  8.],\n",
       "       [12.,  7.]])"
      ]
     },
     "execution_count": 76,
     "metadata": {},
     "output_type": "execute_result"
    }
   ],
   "source": [
    "print(data[:,0] == 12.)\n",
    "filt = data[:,0] == 12.\n",
    "\n",
    "data[filt] #selecting only seniors"
   ]
  },
  {
   "cell_type": "code",
   "execution_count": 81,
   "metadata": {},
   "outputs": [
    {
     "name": "stdout",
     "output_type": "stream",
     "text": [
      "(array([2, 3, 5, 7]),)\n"
     ]
    },
    {
     "data": {
      "text/plain": [
       "array([[10.,  3.],\n",
       "       [10.,  1.],\n",
       "       [11.,  3.],\n",
       "       [11.,  3.]])"
      ]
     },
     "execution_count": 81,
     "metadata": {},
     "output_type": "execute_result"
    }
   ],
   "source": [
    "# can also use np.where to make more complex masks\n",
    "filt = np.where( (data[:,0] > 9) & (data[:,0] < 12) )\n",
    "print(filt) #returns the indexes where the condition is true, rather than a boolean array\n",
    "\n",
    "data[filt]"
   ]
  },
  {
   "cell_type": "markdown",
   "metadata": {},
   "source": [
    "We can also use the where statement in a more \"fancy\" way\n",
    "\n",
    "np.where(condition, value if True, value if False)\n"
   ]
  },
  {
   "cell_type": "code",
   "execution_count": 88,
   "metadata": {},
   "outputs": [
    {
     "data": {
      "text/plain": [
       "array([-1., -1., -1., -1., -1., 11., 12., 11., 12., -1.])"
      ]
     },
     "execution_count": 88,
     "metadata": {},
     "output_type": "execute_result"
    }
   ],
   "source": [
    "np.where(data[:,0] > 10, data[:,0], -1)\n"
   ]
  },
  {
   "cell_type": "markdown",
   "metadata": {},
   "source": [
    "## Initalizing Arrays\n",
    "\n",
    "Often times we will want to initialize large arrays with certain properties. Here are some very common ones (I use them almost daily!)"
   ]
  },
  {
   "cell_type": "code",
   "execution_count": 95,
   "metadata": {},
   "outputs": [
    {
     "data": {
      "text/plain": [
       "array([[0., 0., 0.],\n",
       "       [0., 0., 0.],\n",
       "       [0., 0., 0.]])"
      ]
     },
     "execution_count": 95,
     "metadata": {},
     "output_type": "execute_result"
    }
   ],
   "source": [
    "np.zeros([3,3])"
   ]
  },
  {
   "cell_type": "code",
   "execution_count": 96,
   "metadata": {},
   "outputs": [
    {
     "data": {
      "text/plain": [
       "array([[1., 1., 1.],\n",
       "       [1., 1., 1.],\n",
       "       [1., 1., 1.]])"
      ]
     },
     "execution_count": 96,
     "metadata": {},
     "output_type": "execute_result"
    }
   ],
   "source": [
    "np.ones([3,3])"
   ]
  },
  {
   "cell_type": "code",
   "execution_count": 100,
   "metadata": {},
   "outputs": [
    {
     "data": {
      "text/plain": [
       "array([[0.6581679 , 0.03588234, 0.83558891],\n",
       "       [0.62997763, 0.32170812, 0.82635748],\n",
       "       [0.12067306, 0.05521552, 0.67450398]])"
      ]
     },
     "execution_count": 100,
     "metadata": {},
     "output_type": "execute_result"
    }
   ],
   "source": [
    "np.random.random([3,3])  #random between [0,1], we will talk about other distributions later this class!"
   ]
  },
  {
   "cell_type": "code",
   "execution_count": 121,
   "metadata": {},
   "outputs": [
    {
     "data": {
      "text/plain": [
       "array([ 0.        ,  1.11111111,  2.22222222,  3.33333333,  4.44444444,\n",
       "        5.55555556,  6.66666667,  7.77777778,  8.88888889, 10.        ])"
      ]
     },
     "execution_count": 121,
     "metadata": {},
     "output_type": "execute_result"
    }
   ],
   "source": [
    "np.linspace(0, 10, 10) #linear spaced between 0 and 10"
   ]
  },
  {
   "cell_type": "code",
   "execution_count": 124,
   "metadata": {},
   "outputs": [
    {
     "data": {
      "text/plain": [
       "array([ 1.        ,  1.29154967,  1.66810054,  2.15443469,  2.7825594 ,\n",
       "        3.59381366,  4.64158883,  5.9948425 ,  7.74263683, 10.        ])"
      ]
     },
     "execution_count": 124,
     "metadata": {},
     "output_type": "execute_result"
    }
   ],
   "source": [
    "np.logspace(0, 1, 10) #logspaced between 10**0 and 10**1, useful for log-plots"
   ]
  },
  {
   "cell_type": "markdown",
   "metadata": {},
   "source": [
    "# Saving/Loading Arrays\n",
    "\n",
    "NumPy makes loading and saving arrays easy! :D We can do this either in NumPy's special binary format or in a normal text format. NumPy's special format is often nice when dealing with large arrays as it deals consistently with the dimensionality of the array, but it isn't \"human readable\" like a text file is..."
   ]
  },
  {
   "cell_type": "code",
   "execution_count": 101,
   "metadata": {},
   "outputs": [],
   "source": [
    "test = np.random.random([3,3])\n",
    "\n",
    "np.save(\"test\",test)"
   ]
  },
  {
   "cell_type": "code",
   "execution_count": 106,
   "metadata": {},
   "outputs": [
    {
     "name": "stdout",
     "output_type": "stream",
     "text": [
      "�NUMPY\u0001\u0000v\u0000{'descr': '<f8', 'fortran_order': False, 'shape': (3, 3), }                                                          \n",
      "�H�R���?\u0000�\u0012�Z��?�\u000f3}\t9�?�m[(q��?<��,�k�?\\Ѧ\u0007�<�?\u0000�_4J}�?\u0004��q�L�?���z~��?"
     ]
    }
   ],
   "source": [
    "%%bash\n",
    "\n",
    "more -f test.npy"
   ]
  },
  {
   "cell_type": "code",
   "execution_count": 102,
   "metadata": {},
   "outputs": [
    {
     "data": {
      "text/plain": [
       "array([[0.74583355, 0.05208857, 0.88196253],\n",
       "       [0.43117932, 0.2454808 , 0.91369535],\n",
       "       [0.01805607, 0.45780955, 0.86199879]])"
      ]
     },
     "execution_count": 102,
     "metadata": {},
     "output_type": "execute_result"
    }
   ],
   "source": [
    "np.load(\"./test.npy\")"
   ]
  },
  {
   "cell_type": "markdown",
   "metadata": {},
   "source": [
    "vs. a text file!"
   ]
  },
  {
   "cell_type": "code",
   "execution_count": 107,
   "metadata": {},
   "outputs": [],
   "source": [
    "np.savetxt(\"test.txt\",test)"
   ]
  },
  {
   "cell_type": "code",
   "execution_count": 108,
   "metadata": {},
   "outputs": [
    {
     "name": "stdout",
     "output_type": "stream",
     "text": [
      "7.458335506837781015e-01 5.208857463128602205e-02 8.819625325490942913e-01\n",
      "4.311793226349598385e-01 2.454807967860349605e-01 9.136953496404589536e-01\n",
      "1.805606789273284107e-02 4.578095541727977835e-01 8.619987867191917230e-01\n"
     ]
    }
   ],
   "source": [
    "%%bash\n",
    "\n",
    "more -f test.txt"
   ]
  },
  {
   "cell_type": "code",
   "execution_count": 109,
   "metadata": {},
   "outputs": [
    {
     "data": {
      "text/plain": [
       "array([[0.74583355, 0.05208857, 0.88196253],\n",
       "       [0.43117932, 0.2454808 , 0.91369535],\n",
       "       [0.01805607, 0.45780955, 0.86199879]])"
      ]
     },
     "execution_count": 109,
     "metadata": {},
     "output_type": "execute_result"
    }
   ],
   "source": [
    "np.loadtxt(\"test.txt\")"
   ]
  },
  {
   "cell_type": "code",
   "execution_count": 110,
   "metadata": {},
   "outputs": [
    {
     "name": "stdout",
     "output_type": "stream",
     "text": [
      "total 64\n",
      "-rw-r--r--  1 benjaminhorowitz  staff    23K Jul 11 21:30 NumPy (Lesson 2).ipynb\n",
      "-rw-r--r--  1 benjaminhorowitz  staff   200B Jul 11 21:27 test.npy\n",
      "-rw-r--r--  1 benjaminhorowitz  staff   225B Jul 11 21:30 test.txt\n"
     ]
    }
   ],
   "source": [
    "%%bash\n",
    "\n",
    "ls -lh ./"
   ]
  },
  {
   "cell_type": "markdown",
   "metadata": {},
   "source": [
    "Note that the numpy binary format is slightly smaller as well? The difference is minimal though..."
   ]
  },
  {
   "cell_type": "code",
   "execution_count": 152,
   "metadata": {},
   "outputs": [],
   "source": [
    "np.savetxt(\"./data/dist.txt\",np.random.gamma(10,size=[1000]))"
   ]
  },
  {
   "cell_type": "markdown",
   "metadata": {},
   "source": [
    "## Numpy Functions\n",
    "\n",
    "In addition to built in methods, there are a large number of functions which one can use to operate on arrays/sets of arrays. Again these are designed to optimize for speed over just looping over the arrays."
   ]
  },
  {
   "cell_type": "code",
   "execution_count": 156,
   "metadata": {},
   "outputs": [
    {
     "name": "stdout",
     "output_type": "stream",
     "text": [
      "[0.44981718 0.39450161 0.44148039 0.28012172 0.18049439 0.94577068\n",
      " 0.41774047 0.63513442 0.69040093 0.55161995]\n"
     ]
    }
   ],
   "source": [
    "arr = np.random.rand(10)\n",
    "\n",
    "print(arr)"
   ]
  },
  {
   "cell_type": "code",
   "execution_count": 159,
   "metadata": {},
   "outputs": [
    {
     "name": "stdout",
     "output_type": "stream",
     "text": [
      "[0.20233549 0.15563152 0.19490493 0.07846818 0.03257823 0.89448218\n",
      " 0.1745071  0.40339573 0.47665344 0.30428456]\n",
      "[1.44981718 1.39450161 1.44148039 1.28012172 1.18049439 1.94577068\n",
      " 1.41774047 1.63513442 1.69040093 1.55161995]\n"
     ]
    }
   ],
   "source": [
    "print(arr**2)\n",
    "print(arr+1)"
   ]
  },
  {
   "cell_type": "code",
   "execution_count": 169,
   "metadata": {},
   "outputs": [
    {
     "name": "stdout",
     "output_type": "stream",
     "text": [
      "[31.49463382 29.79979774 31.23316121 26.57900768 24.05864504 51.71617943\n",
      " 30.50042051 37.90694803 40.06090538 34.86975888]\n",
      "[1.53796721 1.5379075  1.53795822 1.53778336 1.53767446 1.53849297\n",
      " 1.53793261 1.53816565 1.53822437 1.53807652]\n"
     ]
    }
   ],
   "source": [
    "#pretty much all \"math\" commands have a numpy version\n",
    "print(np.exp(arr+3))\n",
    "print(np.arctan(arr+30))\n",
    "#etc."
   ]
  },
  {
   "cell_type": "markdown",
   "metadata": {},
   "source": [
    "# Basic Statistics/Probability\n",
    "\n",
    "Some basic statistics which we will use in this course...\n",
    "\n",
    "Chapter 3 of this is a good starting point: [here](https://www.stat.auckland.ac.nz/~brewer/stats331.pdf)\n",
    "\n",
    "Basic concepts:\n",
    "\n",
    "1) Probability Density Function (PDF)\n",
    "\n",
    "2) Prior Distribution\n",
    "\n",
    "3) Posterior Distribution\n",
    "\n",
    "4) Likelihood"
   ]
  },
  {
   "cell_type": "markdown",
   "metadata": {},
   "source": [
    "## Bayesian Example in Python...\n",
    "\n",
    "I'm making Guacamole for a large party at the last minute and I need 100 avocados. When I go to the food store, I don't have time to check to see if all avocados are ripe, but I quickly feel 5 avocados and note that only four of them are currently ripe. How many avocados do I need to buy in order to know with 80% confidence I will have 100 ripe avocados?"
   ]
  },
  {
   "cell_type": "markdown",
   "metadata": {},
   "source": [
    "### Solution\n",
    "\n",
    "We are trying to estimate the parameter of \"fraction of avocados that are ripe.\" This parameter could vary from zero (none are ripe) to 1 (all are ripe). \n",
    "\n",
    "For a prior, we really have no idea about how likely the supermarket is to have ripe avocados. In cases like this it is often useful to assume a \"flat\" prior. (If we were feeling smarter we could maybe think people before us preferentially pick up ripe avocados, making the fraction ripe more likey to be lower than higher, but less ignore such subtities for now)\n",
    "\n",
    "For our likelihood, we heed to calculate the probability of a certain parameter given the data we have (that 4 of 5 are ripe). This likihood can be given by a binomial distribution (similar to flipping a coin).\n",
    "\n",
    "$$p(x|\\theta) = {N\\choose x} \\theta^{x}(1-\\theta)^{N-x}$$"
   ]
  },
  {
   "cell_type": "code",
   "execution_count": 212,
   "metadata": {},
   "outputs": [],
   "source": [
    "import math\n",
    "\n",
    "def binom(x,N,Theta):\n",
    "    return math.factorial(N)/(math.factorial(x)*math.factorial(N-x))*np.power(Theta,x)*np.power(1-Theta,N-x)"
   ]
  },
  {
   "cell_type": "code",
   "execution_count": 213,
   "metadata": {},
   "outputs": [
    {
     "name": "stdout",
     "output_type": "stream",
     "text": [
      "[0.         0.00917431 0.01834862 0.02752294 0.03669725 0.04587156\n",
      " 0.05504587 0.06422018 0.0733945  0.08256881 0.09174312 0.10091743\n",
      " 0.11009174 0.11926606 0.12844037 0.13761468 0.14678899 0.1559633\n",
      " 0.16513761 0.17431193 0.18348624 0.19266055 0.20183486 0.21100917\n",
      " 0.22018349 0.2293578  0.23853211 0.24770642 0.25688073 0.26605505\n",
      " 0.27522936 0.28440367 0.29357798 0.30275229 0.31192661 0.32110092\n",
      " 0.33027523 0.33944954 0.34862385 0.35779817 0.36697248 0.37614679\n",
      " 0.3853211  0.39449541 0.40366972 0.41284404 0.42201835 0.43119266\n",
      " 0.44036697 0.44954128 0.4587156  0.46788991 0.47706422 0.48623853\n",
      " 0.49541284 0.50458716 0.51376147 0.52293578 0.53211009 0.5412844\n",
      " 0.55045872 0.55963303 0.56880734 0.57798165 0.58715596 0.59633028\n",
      " 0.60550459 0.6146789  0.62385321 0.63302752 0.64220183 0.65137615\n",
      " 0.66055046 0.66972477 0.67889908 0.68807339 0.69724771 0.70642202\n",
      " 0.71559633 0.72477064 0.73394495 0.74311927 0.75229358 0.76146789\n",
      " 0.7706422  0.77981651 0.78899083 0.79816514 0.80733945 0.81651376\n",
      " 0.82568807 0.83486239 0.8440367  0.85321101 0.86238532 0.87155963\n",
      " 0.88073394 0.88990826 0.89908257 0.90825688 0.91743119 0.9266055\n",
      " 0.93577982 0.94495413 0.95412844 0.96330275 0.97247706 0.98165138\n",
      " 0.99082569 1.        ]\n"
     ]
    }
   ],
   "source": [
    "\n",
    "\n",
    "theta = np.linspace(0, 1, 110)\n",
    "\n",
    "print(theta)"
   ]
  },
  {
   "cell_type": "code",
   "execution_count": 214,
   "metadata": {},
   "outputs": [
    {
     "name": "stdout",
     "output_type": "stream",
     "text": [
      "[0.00909091 0.00909091 0.00909091 0.00909091 0.00909091 0.00909091\n",
      " 0.00909091 0.00909091 0.00909091 0.00909091 0.00909091 0.00909091\n",
      " 0.00909091 0.00909091 0.00909091 0.00909091 0.00909091 0.00909091\n",
      " 0.00909091 0.00909091 0.00909091 0.00909091 0.00909091 0.00909091\n",
      " 0.00909091 0.00909091 0.00909091 0.00909091 0.00909091 0.00909091\n",
      " 0.00909091 0.00909091 0.00909091 0.00909091 0.00909091 0.00909091\n",
      " 0.00909091 0.00909091 0.00909091 0.00909091 0.00909091 0.00909091\n",
      " 0.00909091 0.00909091 0.00909091 0.00909091 0.00909091 0.00909091\n",
      " 0.00909091 0.00909091 0.00909091 0.00909091 0.00909091 0.00909091\n",
      " 0.00909091 0.00909091 0.00909091 0.00909091 0.00909091 0.00909091\n",
      " 0.00909091 0.00909091 0.00909091 0.00909091 0.00909091 0.00909091\n",
      " 0.00909091 0.00909091 0.00909091 0.00909091 0.00909091 0.00909091\n",
      " 0.00909091 0.00909091 0.00909091 0.00909091 0.00909091 0.00909091\n",
      " 0.00909091 0.00909091 0.00909091 0.00909091 0.00909091 0.00909091\n",
      " 0.00909091 0.00909091 0.00909091 0.00909091 0.00909091 0.00909091\n",
      " 0.00909091 0.00909091 0.00909091 0.00909091 0.00909091 0.00909091\n",
      " 0.00909091 0.00909091 0.00909091 0.00909091 0.00909091 0.00909091\n",
      " 0.00909091 0.00909091 0.00909091 0.00909091 0.00909091 0.00909091\n",
      " 0.00909091 0.00909091]\n"
     ]
    }
   ],
   "source": [
    "prior = np.ones(len(theta))/len(theta)\n",
    "\n",
    "print(prior)"
   ]
  },
  {
   "cell_type": "code",
   "execution_count": 218,
   "metadata": {},
   "outputs": [
    {
     "name": "stdout",
     "output_type": "stream",
     "text": [
      "[0.00000000e+00 3.50962949e-08 5.56341267e-07 2.79015544e-06\n",
      " 8.73507783e-06 2.11227701e-05 4.33790204e-05 7.95847482e-05\n",
      " 1.34437007e-04 2.13209991e-04 3.21716036e-04 4.66266626e-04\n",
      " 6.53633395e-04 8.91009136e-04 1.18596880e-03 1.54643049e-03\n",
      " 1.98061650e-03 2.49701429e-03 3.10433747e-03 3.81148687e-03\n",
      " 4.62751147e-03 5.56156946e-03 6.62288922e-03 7.82073031e-03\n",
      " 9.16434451e-03 1.06629368e-02 1.23256264e-02 1.41614076e-02\n",
      " 1.61791112e-02 1.83873648e-02 2.07945547e-02 2.34087861e-02\n",
      " 2.62378445e-02 2.92891566e-02 3.25697516e-02 3.60862216e-02\n",
      " 3.98446832e-02 4.38507380e-02 4.81094343e-02 5.26252271e-02\n",
      " 5.74019400e-02 6.24427260e-02 6.77500280e-02 7.33255404e-02\n",
      " 7.91701700e-02 8.52839965e-02 9.16662343e-02 9.83151929e-02\n",
      " 1.05228238e-01 1.12401753e-01 1.19831099e-01 1.27510577e-01\n",
      " 1.35433389e-01 1.43591595e-01 1.51976082e-01 1.60576517e-01\n",
      " 1.69381312e-01 1.78377585e-01 1.87551121e-01 1.96886331e-01\n",
      " 2.06366214e-01 2.15972319e-01 2.25684707e-01 2.35481907e-01\n",
      " 2.45340883e-01 2.55236992e-01 2.65143944e-01 2.75033766e-01\n",
      " 2.84876761e-01 2.94641467e-01 3.04294625e-01 3.13801132e-01\n",
      " 3.23124006e-01 3.32224347e-01 3.41061296e-01 3.49592000e-01\n",
      " 3.57771567e-01 3.65553035e-01 3.72887323e-01 3.79723202e-01\n",
      " 3.86007249e-01 3.91683811e-01 3.96694965e-01 4.00980481e-01\n",
      " 4.04477779e-01 4.07121895e-01 4.08845438e-01 4.09578552e-01\n",
      " 4.09248879e-01 4.07781517e-01 4.05098983e-01 4.01121175e-01\n",
      " 3.95765329e-01 3.88945984e-01 3.80574940e-01 3.70561223e-01\n",
      " 3.58811042e-01 3.45227750e-01 3.29711809e-01 3.12160748e-01\n",
      " 2.92469124e-01 2.70528483e-01 2.46227322e-01 2.19451050e-01\n",
      " 1.90081949e-01 1.57999132e-01 1.23078510e-01 8.51927468e-02\n",
      " 4.42112238e-02 0.00000000e+00]\n"
     ]
    }
   ],
   "source": [
    "lik = binom(4,5,theta) # Binomail Distribution\n",
    "\n",
    "print(lik)\n"
   ]
  },
  {
   "cell_type": "code",
   "execution_count": 219,
   "metadata": {},
   "outputs": [
    {
     "name": "stdout",
     "output_type": "stream",
     "text": [
      "Populating the interactive namespace from numpy and matplotlib\n"
     ]
    },
    {
     "data": {
      "text/plain": [
       "[<matplotlib.lines.Line2D at 0x115218f50>]"
      ]
     },
     "execution_count": 219,
     "metadata": {},
     "output_type": "execute_result"
    },
    {
     "data": {
      "image/png": "[encoded data removed]",
      "text/plain": [
       "<Figure size 432x288 with 1 Axes>"
      ]
     },
     "metadata": {
      "needs_background": "light"
     },
     "output_type": "display_data"
    }
   ],
   "source": [
    "# to get the posterior we multiply by the prior and then normalize\n",
    "\n",
    "h = prior*lik\n",
    "post = h/np.sum(h)\n",
    "%pylab inline\n",
    "plt.plot(theta,post)"
   ]
  },
  {
   "cell_type": "code",
   "execution_count": 220,
   "metadata": {},
   "outputs": [
    {
     "name": "stdout",
     "output_type": "stream",
     "text": [
      "0.5871559633027523 0.20717563539055767\n"
     ]
    }
   ],
   "source": [
    "for i,j in enumerate(post):\n",
    "    if np.sum(post[:i])>0.20:\n",
    "        print(theta[i],np.sum(post[:i]))\n",
    "        break #exit the loop"
   ]
  },
  {
   "cell_type": "markdown",
   "metadata": {},
   "source": [
    "So we would need 100/0.58 or 173 avocados to be 80% certain we have enough!"
   ]
  }
 ],
 "metadata": {
  "kernelspec": {
   "display_name": "Python 3",
   "language": "python",
   "name": "python3"
  },
  "language_info": {
   "codemirror_mode": {
    "name": "ipython",
    "version": 3
   },
   "file_extension": ".py",
   "mimetype": "text/x-python",
   "name": "python",
   "nbconvert_exporter": "python",
   "pygments_lexer": "ipython3",
   "version": "3.7.4"
  }
 },
 "nbformat": 4,
 "nbformat_minor": 2
}
