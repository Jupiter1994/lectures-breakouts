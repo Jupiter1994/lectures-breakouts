{
 "cells": [
  {
   "cell_type": "markdown",
   "metadata": {},
   "source": [
    "# Optimal Number of PCA components"
   ]
  },
  {
   "cell_type": "markdown",
   "metadata": {},
   "source": [
    "In the example in class, we used 10 components (n_digits) slightly arbitrarily. Maybe we could get better accuracy with more, or similar accuracy with fewer? \n",
    "\n",
    "1) Vary the number of componenets between 5 and 30, plotting the accuracy score and the time for each method."
   ]
  },
  {
   "cell_type": "markdown",
   "metadata": {},
   "source": [
    "2) In addition to looking at how well a k-means can classify the data, one can look at how much of the variance of the data is captured in each component, a more classification agnostic approach. Use the below code to see what the optimal number of components is to clas"
   ]
  },
  {
   "cell_type": "code",
   "execution_count": null,
   "metadata": {},
   "outputs": [],
   "source": [
    "pca = PCA().fit(digits.data)\n",
    "plt.plot(np.cumsum(pca.explained_variance_ratio_))\n",
    "plt.xlabel('number of components')\n",
    "plt.ylabel('cumulative explained variance'); "
   ]
  }
 ],
 "metadata": {
  "kernelspec": {
   "display_name": "Python 3",
   "language": "python",
   "name": "python3"
  },
  "language_info": {
   "codemirror_mode": {
    "name": "ipython",
    "version": 3
   },
   "file_extension": ".py",
   "mimetype": "text/x-python",
   "name": "python",
   "nbconvert_exporter": "python",
   "pygments_lexer": "ipython3",
   "version": "3.7.4"
  }
 },
 "nbformat": 4,
 "nbformat_minor": 2
}
