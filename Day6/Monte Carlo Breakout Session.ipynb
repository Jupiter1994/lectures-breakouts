{
 "cells": [
  {
   "cell_type": "markdown",
   "metadata": {},
   "source": [
    "## Breakout Session: Monte Carlo Activities\n",
    "\n",
    "#### 1) Calculating Pi\n",
    "\n",
    "a) For the example in class of calculing Pi, plot the estimate of Pi as a function of number of samples. "
   ]
  },
  {
   "cell_type": "markdown",
   "metadata": {},
   "source": [
    "b) Run this many times; what is the rough scaling relation between fractional error and number of samples?"
   ]
  },
  {
   "cell_type": "markdown",
   "metadata": {},
   "source": [
    "#### 2) Capitalist Coin Games\n",
    "\n",
    "We play a game where we both start off by flipping fair coins (50/50). If only one person gets heads (i.e. TH, or HT) they are declared the \"winner\" and get a point. In addition, they get to flip a weighted which will come up heads 75% of the time until they loose, at which point they need to go back to the fair coin and their opponent gets the weighted coin.\n",
    "\n",
    "We play a total of ten coin flips."
   ]
  },
  {
   "cell_type": "markdown",
   "metadata": {},
   "source": [
    "a) Make a simulation to run through each coin flip in series and assign scores to each player."
   ]
  },
  {
   "cell_type": "code",
   "execution_count": null,
   "metadata": {},
   "outputs": [],
   "source": [
    "#initalizing scores\n",
    "p1_score = 0\n",
    "p2_score = 0\n",
    "\n",
    "for i in range(0,10): #each round\n",
    "    #SOMETHING!"
   ]
  },
  {
   "cell_type": "markdown",
   "metadata": {},
   "source": [
    "b) If I win the first flip, what is the likelihood I will end the game with greater than 7 points?\n",
    "\n",
    "(Hint, you will want to run the simulation many times and keep track of who wins each time)"
   ]
  },
  {
   "cell_type": "code",
   "execution_count": null,
   "metadata": {},
   "outputs": [],
   "source": []
  },
  {
   "cell_type": "markdown",
   "metadata": {},
   "source": [
    "c) If I win the first flip, what is the likelihood I will win the game?"
   ]
  },
  {
   "cell_type": "code",
   "execution_count": null,
   "metadata": {},
   "outputs": [],
   "source": []
  }
 ],
 "metadata": {
  "kernelspec": {
   "display_name": "Python 3",
   "language": "python",
   "name": "python3"
  },
  "language_info": {
   "codemirror_mode": {
    "name": "ipython",
    "version": 3
   },
   "file_extension": ".py",
   "mimetype": "text/x-python",
   "name": "python",
   "nbconvert_exporter": "python",
   "pygments_lexer": "ipython3",
   "version": "3.7.4"
  }
 },
 "nbformat": 4,
 "nbformat_minor": 2
}
