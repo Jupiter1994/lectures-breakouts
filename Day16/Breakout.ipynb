{
 "cells": [
  {
   "cell_type": "markdown",
   "metadata": {},
   "source": [
    "# Breakout!\n",
    "\n",
    "1) Download keras and tensorflow, if you haven't already.\n",
    "\n",
    "2) Perform the same classification analysis with the UCL digits dataset we used earlier. Use the lesson as a template! :D\n",
    "\n",
    "(More info here: https://archive.ics.uci.edu/ml/datasets/Optical+Recognition+of+Handwritten+Digits )"
   ]
  },
  {
   "cell_type": "code",
   "execution_count": 2,
   "metadata": {},
   "outputs": [],
   "source": [
    "from sklearn.datasets import load_digits\n",
    "digits = load_digits()"
   ]
  }
 ],
 "metadata": {
  "kernelspec": {
   "display_name": "Python 3",
   "language": "python",
   "name": "python3"
  },
  "language_info": {
   "codemirror_mode": {
    "name": "ipython",
    "version": 3
   },
   "file_extension": ".py",
   "mimetype": "text/x-python",
   "name": "python",
   "nbconvert_exporter": "python",
   "pygments_lexer": "ipython3",
   "version": "3.7.4"
  }
 },
 "nbformat": 4,
 "nbformat_minor": 2
}
