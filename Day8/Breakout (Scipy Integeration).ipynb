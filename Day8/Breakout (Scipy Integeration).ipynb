{
 "cells": [
  {
   "cell_type": "markdown",
   "metadata": {},
   "source": [
    "## Breakout Session\n",
    "\n",
    "### Plot before you integrate...\n",
    "\n",
    "1) Try to integrate the following function using a simple rectangle rule...\n",
    "\n",
    "$$ y(x) = sin(1/x)$$"
   ]
  },
  {
   "cell_type": "code",
   "execution_count": null,
   "metadata": {},
   "outputs": [],
   "source": [
    "def integral(func,x_0 = 0, x_1=1,N=100):\n",
    "    x = np.linspace(x_0,x_1,N) #grid of x values\n",
    "    dx = x[1]-x[0] #difference between x values\n",
    "\n",
    "\n",
    "    integral = np.sum(func(x))*dx\n",
    "    return integral"
   ]
  },
  {
   "cell_type": "markdown",
   "metadata": {},
   "source": [
    "2) Now try to use scipy integrate. Notice that you will get an warning... why?"
   ]
  },
  {
   "cell_type": "markdown",
   "metadata": {},
   "source": [
    "### Differential Equation Solving\n",
    "\n",
    "1) Try solving the following differential equation using odeint in scipy,\n",
    "\n",
    "$$\\frac{dy}{dt} = − exp(−t)(10 sin(10t) + cos(10t))$$\n",
    "\n",
    "with initial value\n",
    "\n",
    "$y(0)=1$."
   ]
  },
  {
   "cell_type": "markdown",
   "metadata": {},
   "source": [
    "2) plot the solution between 0 and 10."
   ]
  },
  {
   "cell_type": "code",
   "execution_count": null,
   "metadata": {},
   "outputs": [],
   "source": []
  }
 ],
 "metadata": {
  "kernelspec": {
   "display_name": "Python 3",
   "language": "python",
   "name": "python3"
  },
  "language_info": {
   "codemirror_mode": {
    "name": "ipython",
    "version": 3
   },
   "file_extension": ".py",
   "mimetype": "text/x-python",
   "name": "python",
   "nbconvert_exporter": "python",
   "pygments_lexer": "ipython3",
   "version": "3.7.4"
  }
 },
 "nbformat": 4,
 "nbformat_minor": 2
}
