{
 "cells": [
  {
   "cell_type": "markdown",
   "metadata": {},
   "source": [
    "# Lesson 4: SciPy\n",
    "\n",
    "While we could manually code up many commonly used tools (like integration, interpolation, etc.) or we could use built in functions within SciPy (i.e. Scientific Python, seems appropriate for a Scientific Programming course!)\n",
    "\n",
    "SciPy contains a number of sub-modules, some of which I use every day and others I didn't know existed till I prepared this lecture. Below I bolded ones that we are likely to use in the course, although others might be useful for final projects.\n",
    "\n",
    "> scipy.cluster : Clustering alike data (i.e. group data into discrete groups)\n",
    "\n",
    "> scipy.constants : Numerical constants (like speed of light, gravitational constant, etc.)\n",
    "\n",
    "> **scipy.fftpack** : Fourier transforms (more later in the course!)\n",
    "\n",
    "> **scipy.integrate** : To integrate functions\n",
    "\n",
    "> **scipy.interpolate** : Interpolate between datapoints\n",
    "\n",
    "> scipy.io : Save/Load certain data types, usually for compatibility reasons (like MatLab data files)\n",
    "\n",
    "> **scipy.linalg** : Linear algebra routines (like finding eigenvectors/values\n",
    "\n",
    "> **scipy.ndimage** : Used to manipulate images (like smoothing)\n",
    "\n",
    "> scipy.odr : Certain regression types (I've never used this)\n",
    "\n",
    "> **scipy.optimize** : Finding minima/maxima of functions\n",
    "\n",
    "> **scipy.signal** : Used to process \"signals\", stereotypically 1d time seriea data\n",
    "\n",
    "> scipy.sparse : A special data-type which extends numpy arrays to be very large where only some elements are non-zero (useful if the matrix couldn't be held in memory if explicity declared in numpy)\n",
    "\n",
    "> scipy.spatial : Holding spatial information, for example database structures to find nearby elements\n",
    "\n",
    "> **scipy.special** : Many special functions (Bessel, Airy, etc.)\n",
    "\n",
    "> **scipy.stats** : generate various random distriburtions and perform analysis on them!\n"
   ]
  },
  {
   "cell_type": "code",
   "execution_count": null,
   "metadata": {},
   "outputs": [],
   "source": []
  }
 ],
 "metadata": {
  "kernelspec": {
   "display_name": "Python 3",
   "language": "python",
   "name": "python3"
  },
  "language_info": {
   "codemirror_mode": {
    "name": "ipython",
    "version": 3
   },
   "file_extension": ".py",
   "mimetype": "text/x-python",
   "name": "python",
   "nbconvert_exporter": "python",
   "pygments_lexer": "ipython3",
   "version": "3.7.4"
  }
 },
 "nbformat": 4,
 "nbformat_minor": 2
}
